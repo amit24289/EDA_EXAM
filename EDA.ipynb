{
 "cells": [
  {
   "cell_type": "code",
   "execution_count": 132,
   "id": "92d5255e-4d56-4512-a8e0-29380e7dd251",
   "metadata": {},
   "outputs": [],
   "source": [
    "import numpy as np\n",
    "import pandas as pd\n",
    "from collections import Counter\n",
    "from numpy import random\n",
    "import os\n",
    "import scipy\n",
    "from scipy import stats\n",
    "from matplotlib import pyplot as plt\n",
    "from scipy.stats import binom\n",
    "from scipy.stats import poisson\n",
    "from scipy.stats import norm, t\n",
    "import seaborn as sns\n",
    "import pylab\n",
    "from pylab import legend, plot, show, title, xlabel, ylabel\n"
   ]
  },
  {
   "cell_type": "code",
   "execution_count": 2,
   "id": "649f630b-4f33-4245-bc26-a33e2ea2d9ff",
   "metadata": {},
   "outputs": [],
   "source": [
    "previousApplication=pd.read_csv('previous_application.csv')"
   ]
  },
  {
   "cell_type": "code",
   "execution_count": 3,
   "id": "067af6fb-5ce4-48d3-97cd-9e2a188f8a0b",
   "metadata": {},
   "outputs": [
    {
     "data": {
      "text/html": [
       "<div>\n",
       "<style scoped>\n",
       "    .dataframe tbody tr th:only-of-type {\n",
       "        vertical-align: middle;\n",
       "    }\n",
       "\n",
       "    .dataframe tbody tr th {\n",
       "        vertical-align: top;\n",
       "    }\n",
       "\n",
       "    .dataframe thead th {\n",
       "        text-align: right;\n",
       "    }\n",
       "</style>\n",
       "<table border=\"1\" class=\"dataframe\">\n",
       "  <thead>\n",
       "    <tr style=\"text-align: right;\">\n",
       "      <th></th>\n",
       "      <th>SK_ID_PREV</th>\n",
       "      <th>SK_ID_CURR</th>\n",
       "      <th>NAME_CONTRACT_TYPE</th>\n",
       "      <th>AMT_ANNUITY</th>\n",
       "      <th>AMT_APPLICATION</th>\n",
       "      <th>AMT_CREDIT</th>\n",
       "      <th>AMT_DOWN_PAYMENT</th>\n",
       "      <th>AMT_GOODS_PRICE</th>\n",
       "      <th>WEEKDAY_APPR_PROCESS_START</th>\n",
       "      <th>HOUR_APPR_PROCESS_START</th>\n",
       "      <th>...</th>\n",
       "      <th>NAME_SELLER_INDUSTRY</th>\n",
       "      <th>CNT_PAYMENT</th>\n",
       "      <th>NAME_YIELD_GROUP</th>\n",
       "      <th>PRODUCT_COMBINATION</th>\n",
       "      <th>DAYS_FIRST_DRAWING</th>\n",
       "      <th>DAYS_FIRST_DUE</th>\n",
       "      <th>DAYS_LAST_DUE_1ST_VERSION</th>\n",
       "      <th>DAYS_LAST_DUE</th>\n",
       "      <th>DAYS_TERMINATION</th>\n",
       "      <th>NFLAG_INSURED_ON_APPROVAL</th>\n",
       "    </tr>\n",
       "  </thead>\n",
       "  <tbody>\n",
       "    <tr>\n",
       "      <th>0</th>\n",
       "      <td>2030495</td>\n",
       "      <td>271877</td>\n",
       "      <td>Consumer loans</td>\n",
       "      <td>1730.430</td>\n",
       "      <td>17145.0</td>\n",
       "      <td>17145.0</td>\n",
       "      <td>0.0</td>\n",
       "      <td>17145.0</td>\n",
       "      <td>SATURDAY</td>\n",
       "      <td>15</td>\n",
       "      <td>...</td>\n",
       "      <td>Connectivity</td>\n",
       "      <td>12.0</td>\n",
       "      <td>middle</td>\n",
       "      <td>POS mobile with interest</td>\n",
       "      <td>365243.0</td>\n",
       "      <td>-42.0</td>\n",
       "      <td>300.0</td>\n",
       "      <td>-42.0</td>\n",
       "      <td>-37.0</td>\n",
       "      <td>0.0</td>\n",
       "    </tr>\n",
       "    <tr>\n",
       "      <th>1</th>\n",
       "      <td>2802425</td>\n",
       "      <td>108129</td>\n",
       "      <td>Cash loans</td>\n",
       "      <td>25188.615</td>\n",
       "      <td>607500.0</td>\n",
       "      <td>679671.0</td>\n",
       "      <td>NaN</td>\n",
       "      <td>607500.0</td>\n",
       "      <td>THURSDAY</td>\n",
       "      <td>11</td>\n",
       "      <td>...</td>\n",
       "      <td>XNA</td>\n",
       "      <td>36.0</td>\n",
       "      <td>low_action</td>\n",
       "      <td>Cash X-Sell: low</td>\n",
       "      <td>365243.0</td>\n",
       "      <td>-134.0</td>\n",
       "      <td>916.0</td>\n",
       "      <td>365243.0</td>\n",
       "      <td>365243.0</td>\n",
       "      <td>1.0</td>\n",
       "    </tr>\n",
       "    <tr>\n",
       "      <th>2</th>\n",
       "      <td>2523466</td>\n",
       "      <td>122040</td>\n",
       "      <td>Cash loans</td>\n",
       "      <td>15060.735</td>\n",
       "      <td>112500.0</td>\n",
       "      <td>136444.5</td>\n",
       "      <td>NaN</td>\n",
       "      <td>112500.0</td>\n",
       "      <td>TUESDAY</td>\n",
       "      <td>11</td>\n",
       "      <td>...</td>\n",
       "      <td>XNA</td>\n",
       "      <td>12.0</td>\n",
       "      <td>high</td>\n",
       "      <td>Cash X-Sell: high</td>\n",
       "      <td>365243.0</td>\n",
       "      <td>-271.0</td>\n",
       "      <td>59.0</td>\n",
       "      <td>365243.0</td>\n",
       "      <td>365243.0</td>\n",
       "      <td>1.0</td>\n",
       "    </tr>\n",
       "    <tr>\n",
       "      <th>3</th>\n",
       "      <td>2819243</td>\n",
       "      <td>176158</td>\n",
       "      <td>Cash loans</td>\n",
       "      <td>47041.335</td>\n",
       "      <td>450000.0</td>\n",
       "      <td>470790.0</td>\n",
       "      <td>NaN</td>\n",
       "      <td>450000.0</td>\n",
       "      <td>MONDAY</td>\n",
       "      <td>7</td>\n",
       "      <td>...</td>\n",
       "      <td>XNA</td>\n",
       "      <td>12.0</td>\n",
       "      <td>middle</td>\n",
       "      <td>Cash X-Sell: middle</td>\n",
       "      <td>365243.0</td>\n",
       "      <td>-482.0</td>\n",
       "      <td>-152.0</td>\n",
       "      <td>-182.0</td>\n",
       "      <td>-177.0</td>\n",
       "      <td>1.0</td>\n",
       "    </tr>\n",
       "    <tr>\n",
       "      <th>4</th>\n",
       "      <td>1784265</td>\n",
       "      <td>202054</td>\n",
       "      <td>Cash loans</td>\n",
       "      <td>31924.395</td>\n",
       "      <td>337500.0</td>\n",
       "      <td>404055.0</td>\n",
       "      <td>NaN</td>\n",
       "      <td>337500.0</td>\n",
       "      <td>THURSDAY</td>\n",
       "      <td>9</td>\n",
       "      <td>...</td>\n",
       "      <td>XNA</td>\n",
       "      <td>24.0</td>\n",
       "      <td>high</td>\n",
       "      <td>Cash Street: high</td>\n",
       "      <td>NaN</td>\n",
       "      <td>NaN</td>\n",
       "      <td>NaN</td>\n",
       "      <td>NaN</td>\n",
       "      <td>NaN</td>\n",
       "      <td>NaN</td>\n",
       "    </tr>\n",
       "  </tbody>\n",
       "</table>\n",
       "<p>5 rows × 37 columns</p>\n",
       "</div>"
      ],
      "text/plain": [
       "   SK_ID_PREV  SK_ID_CURR NAME_CONTRACT_TYPE  AMT_ANNUITY  AMT_APPLICATION  \\\n",
       "0     2030495      271877     Consumer loans     1730.430          17145.0   \n",
       "1     2802425      108129         Cash loans    25188.615         607500.0   \n",
       "2     2523466      122040         Cash loans    15060.735         112500.0   \n",
       "3     2819243      176158         Cash loans    47041.335         450000.0   \n",
       "4     1784265      202054         Cash loans    31924.395         337500.0   \n",
       "\n",
       "   AMT_CREDIT  AMT_DOWN_PAYMENT  AMT_GOODS_PRICE WEEKDAY_APPR_PROCESS_START  \\\n",
       "0     17145.0               0.0          17145.0                   SATURDAY   \n",
       "1    679671.0               NaN         607500.0                   THURSDAY   \n",
       "2    136444.5               NaN         112500.0                    TUESDAY   \n",
       "3    470790.0               NaN         450000.0                     MONDAY   \n",
       "4    404055.0               NaN         337500.0                   THURSDAY   \n",
       "\n",
       "   HOUR_APPR_PROCESS_START  ... NAME_SELLER_INDUSTRY  CNT_PAYMENT  \\\n",
       "0                       15  ...         Connectivity         12.0   \n",
       "1                       11  ...                  XNA         36.0   \n",
       "2                       11  ...                  XNA         12.0   \n",
       "3                        7  ...                  XNA         12.0   \n",
       "4                        9  ...                  XNA         24.0   \n",
       "\n",
       "   NAME_YIELD_GROUP       PRODUCT_COMBINATION  DAYS_FIRST_DRAWING  \\\n",
       "0            middle  POS mobile with interest            365243.0   \n",
       "1        low_action          Cash X-Sell: low            365243.0   \n",
       "2              high         Cash X-Sell: high            365243.0   \n",
       "3            middle       Cash X-Sell: middle            365243.0   \n",
       "4              high         Cash Street: high                 NaN   \n",
       "\n",
       "  DAYS_FIRST_DUE DAYS_LAST_DUE_1ST_VERSION  DAYS_LAST_DUE DAYS_TERMINATION  \\\n",
       "0          -42.0                     300.0          -42.0            -37.0   \n",
       "1         -134.0                     916.0       365243.0         365243.0   \n",
       "2         -271.0                      59.0       365243.0         365243.0   \n",
       "3         -482.0                    -152.0         -182.0           -177.0   \n",
       "4            NaN                       NaN            NaN              NaN   \n",
       "\n",
       "  NFLAG_INSURED_ON_APPROVAL  \n",
       "0                       0.0  \n",
       "1                       1.0  \n",
       "2                       1.0  \n",
       "3                       1.0  \n",
       "4                       NaN  \n",
       "\n",
       "[5 rows x 37 columns]"
      ]
     },
     "execution_count": 3,
     "metadata": {},
     "output_type": "execute_result"
    }
   ],
   "source": [
    "previousApplication.head()"
   ]
  },
  {
   "cell_type": "code",
   "execution_count": 4,
   "id": "fab20e8d-ae4e-469c-a184-2a1a06396907",
   "metadata": {},
   "outputs": [
    {
     "name": "stdout",
     "output_type": "stream",
     "text": [
      "<class 'pandas.core.frame.DataFrame'>\n",
      "RangeIndex: 1670214 entries, 0 to 1670213\n",
      "Data columns (total 37 columns):\n",
      " #   Column                       Non-Null Count    Dtype  \n",
      "---  ------                       --------------    -----  \n",
      " 0   SK_ID_PREV                   1670214 non-null  int64  \n",
      " 1   SK_ID_CURR                   1670214 non-null  int64  \n",
      " 2   NAME_CONTRACT_TYPE           1670214 non-null  object \n",
      " 3   AMT_ANNUITY                  1297979 non-null  float64\n",
      " 4   AMT_APPLICATION              1670214 non-null  float64\n",
      " 5   AMT_CREDIT                   1670213 non-null  float64\n",
      " 6   AMT_DOWN_PAYMENT             774370 non-null   float64\n",
      " 7   AMT_GOODS_PRICE              1284699 non-null  float64\n",
      " 8   WEEKDAY_APPR_PROCESS_START   1670214 non-null  object \n",
      " 9   HOUR_APPR_PROCESS_START      1670214 non-null  int64  \n",
      " 10  FLAG_LAST_APPL_PER_CONTRACT  1670214 non-null  object \n",
      " 11  NFLAG_LAST_APPL_IN_DAY       1670214 non-null  int64  \n",
      " 12  RATE_DOWN_PAYMENT            774370 non-null   float64\n",
      " 13  RATE_INTEREST_PRIMARY        5951 non-null     float64\n",
      " 14  RATE_INTEREST_PRIVILEGED     5951 non-null     float64\n",
      " 15  NAME_CASH_LOAN_PURPOSE       1670214 non-null  object \n",
      " 16  NAME_CONTRACT_STATUS         1670214 non-null  object \n",
      " 17  DAYS_DECISION                1670214 non-null  int64  \n",
      " 18  NAME_PAYMENT_TYPE            1670214 non-null  object \n",
      " 19  CODE_REJECT_REASON           1670214 non-null  object \n",
      " 20  NAME_TYPE_SUITE              849809 non-null   object \n",
      " 21  NAME_CLIENT_TYPE             1670214 non-null  object \n",
      " 22  NAME_GOODS_CATEGORY          1670214 non-null  object \n",
      " 23  NAME_PORTFOLIO               1670214 non-null  object \n",
      " 24  NAME_PRODUCT_TYPE            1670214 non-null  object \n",
      " 25  CHANNEL_TYPE                 1670214 non-null  object \n",
      " 26  SELLERPLACE_AREA             1670214 non-null  int64  \n",
      " 27  NAME_SELLER_INDUSTRY         1670214 non-null  object \n",
      " 28  CNT_PAYMENT                  1297984 non-null  float64\n",
      " 29  NAME_YIELD_GROUP             1670214 non-null  object \n",
      " 30  PRODUCT_COMBINATION          1669868 non-null  object \n",
      " 31  DAYS_FIRST_DRAWING           997149 non-null   float64\n",
      " 32  DAYS_FIRST_DUE               997149 non-null   float64\n",
      " 33  DAYS_LAST_DUE_1ST_VERSION    997149 non-null   float64\n",
      " 34  DAYS_LAST_DUE                997149 non-null   float64\n",
      " 35  DAYS_TERMINATION             997149 non-null   float64\n",
      " 36  NFLAG_INSURED_ON_APPROVAL    997149 non-null   float64\n",
      "dtypes: float64(15), int64(6), object(16)\n",
      "memory usage: 471.5+ MB\n"
     ]
    }
   ],
   "source": [
    "previousApplication.info()"
   ]
  },
  {
   "cell_type": "code",
   "execution_count": 5,
   "id": "f83c21c2-2006-4095-88c9-0ed07f678e9c",
   "metadata": {},
   "outputs": [
    {
     "data": {
      "text/plain": [
       "SK_ID_PREV                           0\n",
       "SK_ID_CURR                           0\n",
       "NAME_CONTRACT_TYPE                   0\n",
       "AMT_ANNUITY                     372235\n",
       "AMT_APPLICATION                      0\n",
       "AMT_CREDIT                           1\n",
       "AMT_DOWN_PAYMENT                895844\n",
       "AMT_GOODS_PRICE                 385515\n",
       "WEEKDAY_APPR_PROCESS_START           0\n",
       "HOUR_APPR_PROCESS_START              0\n",
       "FLAG_LAST_APPL_PER_CONTRACT          0\n",
       "NFLAG_LAST_APPL_IN_DAY               0\n",
       "RATE_DOWN_PAYMENT               895844\n",
       "RATE_INTEREST_PRIMARY          1664263\n",
       "RATE_INTEREST_PRIVILEGED       1664263\n",
       "NAME_CASH_LOAN_PURPOSE               0\n",
       "NAME_CONTRACT_STATUS                 0\n",
       "DAYS_DECISION                        0\n",
       "NAME_PAYMENT_TYPE                    0\n",
       "CODE_REJECT_REASON                   0\n",
       "NAME_TYPE_SUITE                 820405\n",
       "NAME_CLIENT_TYPE                     0\n",
       "NAME_GOODS_CATEGORY                  0\n",
       "NAME_PORTFOLIO                       0\n",
       "NAME_PRODUCT_TYPE                    0\n",
       "CHANNEL_TYPE                         0\n",
       "SELLERPLACE_AREA                     0\n",
       "NAME_SELLER_INDUSTRY                 0\n",
       "CNT_PAYMENT                     372230\n",
       "NAME_YIELD_GROUP                     0\n",
       "PRODUCT_COMBINATION                346\n",
       "DAYS_FIRST_DRAWING              673065\n",
       "DAYS_FIRST_DUE                  673065\n",
       "DAYS_LAST_DUE_1ST_VERSION       673065\n",
       "DAYS_LAST_DUE                   673065\n",
       "DAYS_TERMINATION                673065\n",
       "NFLAG_INSURED_ON_APPROVAL       673065\n",
       "dtype: int64"
      ]
     },
     "execution_count": 5,
     "metadata": {},
     "output_type": "execute_result"
    }
   ],
   "source": [
    "previousApplication.isnull().sum()"
   ]
  },
  {
   "cell_type": "code",
   "execution_count": 6,
   "id": "52c83784-a314-4d05-a25a-b71f92b35363",
   "metadata": {},
   "outputs": [
    {
     "data": {
      "text/plain": [
       "SK_ID_PREV                      0.000000\n",
       "SK_ID_CURR                      0.000000\n",
       "NAME_CONTRACT_TYPE              0.000000\n",
       "AMT_ANNUITY                    22.286665\n",
       "AMT_APPLICATION                 0.000000\n",
       "AMT_CREDIT                      0.000060\n",
       "AMT_DOWN_PAYMENT               53.636480\n",
       "AMT_GOODS_PRICE                23.081773\n",
       "WEEKDAY_APPR_PROCESS_START      0.000000\n",
       "HOUR_APPR_PROCESS_START         0.000000\n",
       "FLAG_LAST_APPL_PER_CONTRACT     0.000000\n",
       "NFLAG_LAST_APPL_IN_DAY          0.000000\n",
       "RATE_DOWN_PAYMENT              53.636480\n",
       "RATE_INTEREST_PRIMARY          99.643698\n",
       "RATE_INTEREST_PRIVILEGED       99.643698\n",
       "NAME_CASH_LOAN_PURPOSE          0.000000\n",
       "NAME_CONTRACT_STATUS            0.000000\n",
       "DAYS_DECISION                   0.000000\n",
       "NAME_PAYMENT_TYPE               0.000000\n",
       "CODE_REJECT_REASON              0.000000\n",
       "NAME_TYPE_SUITE                49.119754\n",
       "NAME_CLIENT_TYPE                0.000000\n",
       "NAME_GOODS_CATEGORY             0.000000\n",
       "NAME_PORTFOLIO                  0.000000\n",
       "NAME_PRODUCT_TYPE               0.000000\n",
       "CHANNEL_TYPE                    0.000000\n",
       "SELLERPLACE_AREA                0.000000\n",
       "NAME_SELLER_INDUSTRY            0.000000\n",
       "CNT_PAYMENT                    22.286366\n",
       "NAME_YIELD_GROUP                0.000000\n",
       "PRODUCT_COMBINATION             0.020716\n",
       "DAYS_FIRST_DRAWING             40.298129\n",
       "DAYS_FIRST_DUE                 40.298129\n",
       "DAYS_LAST_DUE_1ST_VERSION      40.298129\n",
       "DAYS_LAST_DUE                  40.298129\n",
       "DAYS_TERMINATION               40.298129\n",
       "NFLAG_INSURED_ON_APPROVAL      40.298129\n",
       "dtype: float64"
      ]
     },
     "execution_count": 6,
     "metadata": {},
     "output_type": "execute_result"
    }
   ],
   "source": [
    "(previousApplication.isnull().sum()/len(previousApplication.index))*100"
   ]
  },
  {
   "cell_type": "markdown",
   "id": "43028a31-726a-431b-adfe-e700fb0c1fec",
   "metadata": {},
   "source": [
    "# Data Cleaning:\n",
    "# Deleting columns with missing values > 40%"
   ]
  },
  {
   "cell_type": "code",
   "execution_count": 7,
   "id": "1aa27b9d-1fa9-4282-a4d7-c117e3906e68",
   "metadata": {},
   "outputs": [],
   "source": [
    "previousApplication = previousApplication.drop([\"AMT_DOWN_PAYMENT\", \"RATE_INTEREST_PRIMARY\",\n",
    "                                                \"RATE_DOWN_PAYMENT\", \"RATE_INTEREST_PRIVILEGED\"], axis=1)"
   ]
  },
  {
   "cell_type": "code",
   "execution_count": 8,
   "id": "f6d050e9-69c8-4ccc-ae3e-38948cd56eaa",
   "metadata": {},
   "outputs": [
    {
     "data": {
      "text/plain": [
       "SK_ID_PREV                      0.000000\n",
       "SK_ID_CURR                      0.000000\n",
       "NAME_CONTRACT_TYPE              0.000000\n",
       "AMT_ANNUITY                    22.286665\n",
       "AMT_APPLICATION                 0.000000\n",
       "AMT_CREDIT                      0.000060\n",
       "AMT_GOODS_PRICE                23.081773\n",
       "WEEKDAY_APPR_PROCESS_START      0.000000\n",
       "HOUR_APPR_PROCESS_START         0.000000\n",
       "FLAG_LAST_APPL_PER_CONTRACT     0.000000\n",
       "NFLAG_LAST_APPL_IN_DAY          0.000000\n",
       "NAME_CASH_LOAN_PURPOSE          0.000000\n",
       "NAME_CONTRACT_STATUS            0.000000\n",
       "DAYS_DECISION                   0.000000\n",
       "NAME_PAYMENT_TYPE               0.000000\n",
       "CODE_REJECT_REASON              0.000000\n",
       "NAME_TYPE_SUITE                49.119754\n",
       "NAME_CLIENT_TYPE                0.000000\n",
       "NAME_GOODS_CATEGORY             0.000000\n",
       "NAME_PORTFOLIO                  0.000000\n",
       "NAME_PRODUCT_TYPE               0.000000\n",
       "CHANNEL_TYPE                    0.000000\n",
       "SELLERPLACE_AREA                0.000000\n",
       "NAME_SELLER_INDUSTRY            0.000000\n",
       "CNT_PAYMENT                    22.286366\n",
       "NAME_YIELD_GROUP                0.000000\n",
       "PRODUCT_COMBINATION             0.020716\n",
       "DAYS_FIRST_DRAWING             40.298129\n",
       "DAYS_FIRST_DUE                 40.298129\n",
       "DAYS_LAST_DUE_1ST_VERSION      40.298129\n",
       "DAYS_LAST_DUE                  40.298129\n",
       "DAYS_TERMINATION               40.298129\n",
       "NFLAG_INSURED_ON_APPROVAL      40.298129\n",
       "dtype: float64"
      ]
     },
     "execution_count": 8,
     "metadata": {},
     "output_type": "execute_result"
    }
   ],
   "source": [
    "(previousApplication.isnull().sum()/len(previousApplication.index))*100"
   ]
  },
  {
   "cell_type": "markdown",
   "id": "c504b91e-c996-42cc-b82f-b9abdcee8bfc",
   "metadata": {},
   "source": [
    "# TREATING MISSING VALUES (columun wise)"
   ]
  },
  {
   "cell_type": "markdown",
   "id": "14797794-7878-42d4-9b3e-14a029d464b7",
   "metadata": {},
   "source": [
    "# AMT_ANNUITY"
   ]
  },
  {
   "cell_type": "code",
   "execution_count": 9,
   "id": "bac3bed7-d3f8-46e8-a341-7c8bf80a742f",
   "metadata": {},
   "outputs": [
    {
     "data": {
      "text/plain": [
       "372235"
      ]
     },
     "execution_count": 9,
     "metadata": {},
     "output_type": "execute_result"
    }
   ],
   "source": [
    "previousApplication[\"AMT_ANNUITY\"].isnull().sum()"
   ]
  },
  {
   "cell_type": "code",
   "execution_count": 10,
   "id": "83703095-0730-4629-b33f-9ba4ce5d1812",
   "metadata": {},
   "outputs": [
    {
     "data": {
      "text/plain": [
       "count    1.297979e+06\n",
       "mean     1.595512e+04\n",
       "std      1.478214e+04\n",
       "min      0.000000e+00\n",
       "25%      6.321780e+03\n",
       "50%      1.125000e+04\n",
       "75%      2.065842e+04\n",
       "max      4.180581e+05\n",
       "Name: AMT_ANNUITY, dtype: float64"
      ]
     },
     "execution_count": 10,
     "metadata": {},
     "output_type": "execute_result"
    }
   ],
   "source": [
    "previousApplication[\"AMT_ANNUITY\"].describe()"
   ]
  },
  {
   "cell_type": "code",
   "execution_count": 11,
   "id": "3b23edd7-5c8c-4688-96c0-c608b5e143aa",
   "metadata": {},
   "outputs": [
    {
     "data": {
      "text/plain": [
       "11250.0"
      ]
     },
     "execution_count": 11,
     "metadata": {},
     "output_type": "execute_result"
    }
   ],
   "source": [
    "median_value=previousApplication['AMT_ANNUITY'].median()\n",
    "median_value"
   ]
  },
  {
   "cell_type": "code",
   "execution_count": 12,
   "id": "4bff2986-c55f-47c8-8589-17a15a0f4647",
   "metadata": {},
   "outputs": [
    {
     "name": "stderr",
     "output_type": "stream",
     "text": [
      "C:\\Users\\amitk\\AppData\\Local\\Temp\\ipykernel_12012\\265806764.py:1: FutureWarning: A value is trying to be set on a copy of a DataFrame or Series through chained assignment using an inplace method.\n",
      "The behavior will change in pandas 3.0. This inplace method will never work because the intermediate object on which we are setting values always behaves as a copy.\n",
      "\n",
      "For example, when doing 'df[col].method(value, inplace=True)', try using 'df.method({col: value}, inplace=True)' or df[col] = df[col].method(value) instead, to perform the operation inplace on the original object.\n",
      "\n",
      "\n",
      "  previousApplication['AMT_ANNUITY'].fillna(median_value, inplace=True)\n"
     ]
    }
   ],
   "source": [
    "previousApplication['AMT_ANNUITY'].fillna(median_value, inplace=True)"
   ]
  },
  {
   "cell_type": "code",
   "execution_count": 13,
   "id": "7d372642-d443-4d50-b6d8-0053902d7111",
   "metadata": {},
   "outputs": [
    {
     "data": {
      "text/plain": [
       "0"
      ]
     },
     "execution_count": 13,
     "metadata": {},
     "output_type": "execute_result"
    }
   ],
   "source": [
    "previousApplication[\"AMT_ANNUITY\"].isnull().sum()"
   ]
  },
  {
   "cell_type": "markdown",
   "id": "9e996022-0eb4-4d6a-8641-2fbb866e944a",
   "metadata": {},
   "source": [
    "# AMT_GOODS_PRICE "
   ]
  },
  {
   "cell_type": "code",
   "execution_count": 14,
   "id": "856d690c-bbd5-40dd-b21c-54e3399f9124",
   "metadata": {},
   "outputs": [
    {
     "data": {
      "text/plain": [
       "385515"
      ]
     },
     "execution_count": 14,
     "metadata": {},
     "output_type": "execute_result"
    }
   ],
   "source": [
    "previousApplication[\"AMT_GOODS_PRICE\"].isnull().sum()"
   ]
  },
  {
   "cell_type": "code",
   "execution_count": 15,
   "id": "fafb156d-2427-49a6-bb23-261de05b63ea",
   "metadata": {},
   "outputs": [
    {
     "data": {
      "text/plain": [
       "count    1.284699e+06\n",
       "mean     2.278473e+05\n",
       "std      3.153966e+05\n",
       "min      0.000000e+00\n",
       "25%      5.084100e+04\n",
       "50%      1.123200e+05\n",
       "75%      2.340000e+05\n",
       "max      6.905160e+06\n",
       "Name: AMT_GOODS_PRICE, dtype: float64"
      ]
     },
     "execution_count": 15,
     "metadata": {},
     "output_type": "execute_result"
    }
   ],
   "source": [
    "previousApplication[\"AMT_GOODS_PRICE\"].describe()"
   ]
  },
  {
   "cell_type": "code",
   "execution_count": 16,
   "id": "de38a297-5c52-4f43-824d-dbf104d123b2",
   "metadata": {},
   "outputs": [
    {
     "data": {
      "text/plain": [
       "112320.0"
      ]
     },
     "execution_count": 16,
     "metadata": {},
     "output_type": "execute_result"
    }
   ],
   "source": [
    "median_value=previousApplication['AMT_GOODS_PRICE'].median()\n",
    "median_value"
   ]
  },
  {
   "cell_type": "code",
   "execution_count": 17,
   "id": "155e871f-50aa-4277-bad0-d66a3484db78",
   "metadata": {},
   "outputs": [
    {
     "name": "stderr",
     "output_type": "stream",
     "text": [
      "C:\\Users\\amitk\\AppData\\Local\\Temp\\ipykernel_12012\\687804493.py:1: FutureWarning: A value is trying to be set on a copy of a DataFrame or Series through chained assignment using an inplace method.\n",
      "The behavior will change in pandas 3.0. This inplace method will never work because the intermediate object on which we are setting values always behaves as a copy.\n",
      "\n",
      "For example, when doing 'df[col].method(value, inplace=True)', try using 'df.method({col: value}, inplace=True)' or df[col] = df[col].method(value) instead, to perform the operation inplace on the original object.\n",
      "\n",
      "\n",
      "  previousApplication['AMT_GOODS_PRICE'].fillna(median_value, inplace=True)\n"
     ]
    }
   ],
   "source": [
    "previousApplication['AMT_GOODS_PRICE'].fillna(median_value, inplace=True)"
   ]
  },
  {
   "cell_type": "code",
   "execution_count": 18,
   "id": "70d316c2-75af-4d21-bdb1-c331bd58dbad",
   "metadata": {},
   "outputs": [
    {
     "data": {
      "text/plain": [
       "0"
      ]
     },
     "execution_count": 18,
     "metadata": {},
     "output_type": "execute_result"
    }
   ],
   "source": [
    "previousApplication[\"AMT_GOODS_PRICE\"].isnull().sum()"
   ]
  },
  {
   "cell_type": "markdown",
   "id": "4abc2edd-077a-4716-a0c6-d7a1d11db26e",
   "metadata": {},
   "source": [
    "# CNT_PAYMENT"
   ]
  },
  {
   "cell_type": "code",
   "execution_count": 19,
   "id": "85416b5b-63be-4a9c-bb13-b334ce152d29",
   "metadata": {},
   "outputs": [
    {
     "data": {
      "text/plain": [
       "372230"
      ]
     },
     "execution_count": 19,
     "metadata": {},
     "output_type": "execute_result"
    }
   ],
   "source": [
    "previousApplication[\"CNT_PAYMENT\"].isnull().sum()"
   ]
  },
  {
   "cell_type": "code",
   "execution_count": 20,
   "id": "ce3358d8-d5e6-405d-b60f-6b009c4bcee0",
   "metadata": {},
   "outputs": [
    {
     "data": {
      "text/plain": [
       "count    1.297984e+06\n",
       "mean     1.605408e+01\n",
       "std      1.456729e+01\n",
       "min      0.000000e+00\n",
       "25%      6.000000e+00\n",
       "50%      1.200000e+01\n",
       "75%      2.400000e+01\n",
       "max      8.400000e+01\n",
       "Name: CNT_PAYMENT, dtype: float64"
      ]
     },
     "execution_count": 20,
     "metadata": {},
     "output_type": "execute_result"
    }
   ],
   "source": [
    "previousApplication[\"CNT_PAYMENT\"].describe()"
   ]
  },
  {
   "cell_type": "code",
   "execution_count": 21,
   "id": "3caa5a8f-1dc4-4104-94af-45b1ddb5388c",
   "metadata": {},
   "outputs": [
    {
     "data": {
      "text/plain": [
       "12.0"
      ]
     },
     "execution_count": 21,
     "metadata": {},
     "output_type": "execute_result"
    }
   ],
   "source": [
    "median_value=previousApplication['CNT_PAYMENT'].median()\n",
    "median_value"
   ]
  },
  {
   "cell_type": "code",
   "execution_count": 22,
   "id": "903c2012-d131-4c83-9250-e6916a1c12dc",
   "metadata": {},
   "outputs": [
    {
     "name": "stderr",
     "output_type": "stream",
     "text": [
      "C:\\Users\\amitk\\AppData\\Local\\Temp\\ipykernel_12012\\1155171616.py:1: FutureWarning: A value is trying to be set on a copy of a DataFrame or Series through chained assignment using an inplace method.\n",
      "The behavior will change in pandas 3.0. This inplace method will never work because the intermediate object on which we are setting values always behaves as a copy.\n",
      "\n",
      "For example, when doing 'df[col].method(value, inplace=True)', try using 'df.method({col: value}, inplace=True)' or df[col] = df[col].method(value) instead, to perform the operation inplace on the original object.\n",
      "\n",
      "\n",
      "  previousApplication['CNT_PAYMENT'].fillna(median_value, inplace=True)\n"
     ]
    }
   ],
   "source": [
    "previousApplication['CNT_PAYMENT'].fillna(median_value, inplace=True)"
   ]
  },
  {
   "cell_type": "code",
   "execution_count": 23,
   "id": "cb5d6ef5-a61c-45c4-889c-98cc29965648",
   "metadata": {},
   "outputs": [
    {
     "data": {
      "text/plain": [
       "0"
      ]
     },
     "execution_count": 23,
     "metadata": {},
     "output_type": "execute_result"
    }
   ],
   "source": [
    "previousApplication['CNT_PAYMENT'].isnull().sum()"
   ]
  },
  {
   "cell_type": "code",
   "execution_count": 24,
   "id": "3686a183-5d12-4fdb-affc-674514fc3c58",
   "metadata": {},
   "outputs": [
    {
     "data": {
      "text/plain": [
       "SK_ID_PREV                      0.000000\n",
       "SK_ID_CURR                      0.000000\n",
       "NAME_CONTRACT_TYPE              0.000000\n",
       "AMT_ANNUITY                     0.000000\n",
       "AMT_APPLICATION                 0.000000\n",
       "AMT_CREDIT                      0.000060\n",
       "AMT_GOODS_PRICE                 0.000000\n",
       "WEEKDAY_APPR_PROCESS_START      0.000000\n",
       "HOUR_APPR_PROCESS_START         0.000000\n",
       "FLAG_LAST_APPL_PER_CONTRACT     0.000000\n",
       "NFLAG_LAST_APPL_IN_DAY          0.000000\n",
       "NAME_CASH_LOAN_PURPOSE          0.000000\n",
       "NAME_CONTRACT_STATUS            0.000000\n",
       "DAYS_DECISION                   0.000000\n",
       "NAME_PAYMENT_TYPE               0.000000\n",
       "CODE_REJECT_REASON              0.000000\n",
       "NAME_TYPE_SUITE                49.119754\n",
       "NAME_CLIENT_TYPE                0.000000\n",
       "NAME_GOODS_CATEGORY             0.000000\n",
       "NAME_PORTFOLIO                  0.000000\n",
       "NAME_PRODUCT_TYPE               0.000000\n",
       "CHANNEL_TYPE                    0.000000\n",
       "SELLERPLACE_AREA                0.000000\n",
       "NAME_SELLER_INDUSTRY            0.000000\n",
       "CNT_PAYMENT                     0.000000\n",
       "NAME_YIELD_GROUP                0.000000\n",
       "PRODUCT_COMBINATION             0.020716\n",
       "DAYS_FIRST_DRAWING             40.298129\n",
       "DAYS_FIRST_DUE                 40.298129\n",
       "DAYS_LAST_DUE_1ST_VERSION      40.298129\n",
       "DAYS_LAST_DUE                  40.298129\n",
       "DAYS_TERMINATION               40.298129\n",
       "NFLAG_INSURED_ON_APPROVAL      40.298129\n",
       "dtype: float64"
      ]
     },
     "execution_count": 24,
     "metadata": {},
     "output_type": "execute_result"
    }
   ],
   "source": [
    "(previousApplication.isnull().sum()/len(previousApplication.index))*100"
   ]
  },
  {
   "cell_type": "code",
   "execution_count": 25,
   "id": "6458dd9a-182e-4ebc-8d5a-08414cf7e407",
   "metadata": {},
   "outputs": [
    {
     "data": {
      "text/plain": [
       "0             POS mobile with interest\n",
       "1                     Cash X-Sell: low\n",
       "2                    Cash X-Sell: high\n",
       "3                  Cash X-Sell: middle\n",
       "4                    Cash Street: high\n",
       "                      ...             \n",
       "1670209     POS industry with interest\n",
       "1670210     POS industry with interest\n",
       "1670211    POS household with interest\n",
       "1670212               Cash X-Sell: low\n",
       "1670213            Cash X-Sell: middle\n",
       "Name: PRODUCT_COMBINATION, Length: 1670214, dtype: object"
      ]
     },
     "execution_count": 25,
     "metadata": {},
     "output_type": "execute_result"
    }
   ],
   "source": [
    "previousApplication['PRODUCT_COMBINATION']"
   ]
  },
  {
   "cell_type": "code",
   "execution_count": 26,
   "id": "cc1497a7-cb10-4c82-b204-397cc1981e7e",
   "metadata": {},
   "outputs": [
    {
     "data": {
      "text/plain": [
       "'Cash'"
      ]
     },
     "execution_count": 26,
     "metadata": {},
     "output_type": "execute_result"
    }
   ],
   "source": [
    "mode_value = previousApplication['PRODUCT_COMBINATION'].mode()[0]\n",
    "mode_value"
   ]
  },
  {
   "cell_type": "code",
   "execution_count": 27,
   "id": "ca61a2ed-f31b-4dc3-a211-d17cd96139a1",
   "metadata": {},
   "outputs": [],
   "source": [
    "previousApplication['PRODUCT_COMBINATION'].fillna(mode_value, inplace=True)"
   ]
  },
  {
   "cell_type": "code",
   "execution_count": 28,
   "id": "b45f5b91-e6b1-499f-a9a2-ec807b999648",
   "metadata": {},
   "outputs": [
    {
     "data": {
      "text/plain": [
       "0"
      ]
     },
     "execution_count": 28,
     "metadata": {},
     "output_type": "execute_result"
    }
   ],
   "source": [
    "previousApplication['CNT_PAYMENT'].isnull().sum()"
   ]
  },
  {
   "cell_type": "code",
   "execution_count": 29,
   "id": "5d918aec-e33b-45d0-a2f6-2dbec61c5477",
   "metadata": {},
   "outputs": [
    {
     "data": {
      "text/plain": [
       "SK_ID_PREV                      0.000000\n",
       "SK_ID_CURR                      0.000000\n",
       "NAME_CONTRACT_TYPE              0.000000\n",
       "AMT_ANNUITY                     0.000000\n",
       "AMT_APPLICATION                 0.000000\n",
       "AMT_CREDIT                      0.000060\n",
       "AMT_GOODS_PRICE                 0.000000\n",
       "WEEKDAY_APPR_PROCESS_START      0.000000\n",
       "HOUR_APPR_PROCESS_START         0.000000\n",
       "FLAG_LAST_APPL_PER_CONTRACT     0.000000\n",
       "NFLAG_LAST_APPL_IN_DAY          0.000000\n",
       "NAME_CASH_LOAN_PURPOSE          0.000000\n",
       "NAME_CONTRACT_STATUS            0.000000\n",
       "DAYS_DECISION                   0.000000\n",
       "NAME_PAYMENT_TYPE               0.000000\n",
       "CODE_REJECT_REASON              0.000000\n",
       "NAME_TYPE_SUITE                49.119754\n",
       "NAME_CLIENT_TYPE                0.000000\n",
       "NAME_GOODS_CATEGORY             0.000000\n",
       "NAME_PORTFOLIO                  0.000000\n",
       "NAME_PRODUCT_TYPE               0.000000\n",
       "CHANNEL_TYPE                    0.000000\n",
       "SELLERPLACE_AREA                0.000000\n",
       "NAME_SELLER_INDUSTRY            0.000000\n",
       "CNT_PAYMENT                     0.000000\n",
       "NAME_YIELD_GROUP                0.000000\n",
       "PRODUCT_COMBINATION             0.000000\n",
       "DAYS_FIRST_DRAWING             40.298129\n",
       "DAYS_FIRST_DUE                 40.298129\n",
       "DAYS_LAST_DUE_1ST_VERSION      40.298129\n",
       "DAYS_LAST_DUE                  40.298129\n",
       "DAYS_TERMINATION               40.298129\n",
       "NFLAG_INSURED_ON_APPROVAL      40.298129\n",
       "dtype: float64"
      ]
     },
     "execution_count": 29,
     "metadata": {},
     "output_type": "execute_result"
    }
   ],
   "source": [
    "(previousApplication.isnull().sum()/len(previousApplication.index))*100"
   ]
  },
  {
   "cell_type": "code",
   "execution_count": 30,
   "id": "11497867-5af0-4afc-aceb-e9fc740d9518",
   "metadata": {},
   "outputs": [
    {
     "data": {
      "text/plain": [
       "0                      NaN\n",
       "1            Unaccompanied\n",
       "2          Spouse, partner\n",
       "3                      NaN\n",
       "4                      NaN\n",
       "                ...       \n",
       "1670209                NaN\n",
       "1670210      Unaccompanied\n",
       "1670211    Spouse, partner\n",
       "1670212             Family\n",
       "1670213             Family\n",
       "Name: NAME_TYPE_SUITE, Length: 1670214, dtype: object"
      ]
     },
     "execution_count": 30,
     "metadata": {},
     "output_type": "execute_result"
    }
   ],
   "source": [
    "previousApplication['NAME_TYPE_SUITE']"
   ]
  },
  {
   "cell_type": "code",
   "execution_count": 31,
   "id": "a152b1e8-737a-4852-9775-4b27e2992863",
   "metadata": {},
   "outputs": [
    {
     "data": {
      "text/plain": [
       "820405"
      ]
     },
     "execution_count": 31,
     "metadata": {},
     "output_type": "execute_result"
    }
   ],
   "source": [
    "previousApplication['NAME_TYPE_SUITE'].isnull().sum()"
   ]
  },
  {
   "cell_type": "code",
   "execution_count": 32,
   "id": "c16d1406-3fb4-46bf-b55f-c94cd96efc6d",
   "metadata": {},
   "outputs": [
    {
     "data": {
      "text/plain": [
       "'Unaccompanied'"
      ]
     },
     "execution_count": 32,
     "metadata": {},
     "output_type": "execute_result"
    }
   ],
   "source": [
    "mode_value = previousApplication['NAME_TYPE_SUITE'].mode()[0]\n",
    "mode_value"
   ]
  },
  {
   "cell_type": "code",
   "execution_count": 33,
   "id": "3c4aaf53-dfe8-4728-ba51-281ed26d5979",
   "metadata": {},
   "outputs": [],
   "source": [
    "previousApplication['NAME_TYPE_SUITE'].fillna(mode_value, inplace=True)"
   ]
  },
  {
   "cell_type": "code",
   "execution_count": 34,
   "id": "515b14a9-66d8-4a63-bf66-6e85348ed547",
   "metadata": {},
   "outputs": [
    {
     "data": {
      "text/plain": [
       "SK_ID_PREV                          0\n",
       "SK_ID_CURR                          0\n",
       "NAME_CONTRACT_TYPE                  0\n",
       "AMT_ANNUITY                         0\n",
       "AMT_APPLICATION                     0\n",
       "AMT_CREDIT                          1\n",
       "AMT_GOODS_PRICE                     0\n",
       "WEEKDAY_APPR_PROCESS_START          0\n",
       "HOUR_APPR_PROCESS_START             0\n",
       "FLAG_LAST_APPL_PER_CONTRACT         0\n",
       "NFLAG_LAST_APPL_IN_DAY              0\n",
       "NAME_CASH_LOAN_PURPOSE              0\n",
       "NAME_CONTRACT_STATUS                0\n",
       "DAYS_DECISION                       0\n",
       "NAME_PAYMENT_TYPE                   0\n",
       "CODE_REJECT_REASON                  0\n",
       "NAME_TYPE_SUITE                     0\n",
       "NAME_CLIENT_TYPE                    0\n",
       "NAME_GOODS_CATEGORY                 0\n",
       "NAME_PORTFOLIO                      0\n",
       "NAME_PRODUCT_TYPE                   0\n",
       "CHANNEL_TYPE                        0\n",
       "SELLERPLACE_AREA                    0\n",
       "NAME_SELLER_INDUSTRY                0\n",
       "CNT_PAYMENT                         0\n",
       "NAME_YIELD_GROUP                    0\n",
       "PRODUCT_COMBINATION                 0\n",
       "DAYS_FIRST_DRAWING             673065\n",
       "DAYS_FIRST_DUE                 673065\n",
       "DAYS_LAST_DUE_1ST_VERSION      673065\n",
       "DAYS_LAST_DUE                  673065\n",
       "DAYS_TERMINATION               673065\n",
       "NFLAG_INSURED_ON_APPROVAL      673065\n",
       "dtype: int64"
      ]
     },
     "execution_count": 34,
     "metadata": {},
     "output_type": "execute_result"
    }
   ],
   "source": [
    "previousApplication.isnull().sum()"
   ]
  },
  {
   "cell_type": "code",
   "execution_count": 35,
   "id": "87c5c2f6-1691-4f02-b21a-ccbdaecac7d9",
   "metadata": {},
   "outputs": [],
   "source": [
    "previousApplication = previousApplication.drop(['DAYS_FIRST_DRAWING','DAYS_FIRST_DUE','DAYS_LAST_DUE_1ST_VERSION','DAYS_LAST_DUE',   \n",
    "'DAYS_TERMINATION','NFLAG_INSURED_ON_APPROVAL'], axis=1)"
   ]
  },
  {
   "cell_type": "code",
   "execution_count": 36,
   "id": "da82a66e-5afe-4a87-87d3-7fce2bcb4b60",
   "metadata": {},
   "outputs": [
    {
     "name": "stdout",
     "output_type": "stream",
     "text": [
      "<class 'pandas.core.frame.DataFrame'>\n",
      "RangeIndex: 1670214 entries, 0 to 1670213\n",
      "Data columns (total 27 columns):\n",
      " #   Column                       Non-Null Count    Dtype  \n",
      "---  ------                       --------------    -----  \n",
      " 0   SK_ID_PREV                   1670214 non-null  int64  \n",
      " 1   SK_ID_CURR                   1670214 non-null  int64  \n",
      " 2   NAME_CONTRACT_TYPE           1670214 non-null  object \n",
      " 3   AMT_ANNUITY                  1670214 non-null  float64\n",
      " 4   AMT_APPLICATION              1670214 non-null  float64\n",
      " 5   AMT_CREDIT                   1670213 non-null  float64\n",
      " 6   AMT_GOODS_PRICE              1670214 non-null  float64\n",
      " 7   WEEKDAY_APPR_PROCESS_START   1670214 non-null  object \n",
      " 8   HOUR_APPR_PROCESS_START      1670214 non-null  int64  \n",
      " 9   FLAG_LAST_APPL_PER_CONTRACT  1670214 non-null  object \n",
      " 10  NFLAG_LAST_APPL_IN_DAY       1670214 non-null  int64  \n",
      " 11  NAME_CASH_LOAN_PURPOSE       1670214 non-null  object \n",
      " 12  NAME_CONTRACT_STATUS         1670214 non-null  object \n",
      " 13  DAYS_DECISION                1670214 non-null  int64  \n",
      " 14  NAME_PAYMENT_TYPE            1670214 non-null  object \n",
      " 15  CODE_REJECT_REASON           1670214 non-null  object \n",
      " 16  NAME_TYPE_SUITE              1670214 non-null  object \n",
      " 17  NAME_CLIENT_TYPE             1670214 non-null  object \n",
      " 18  NAME_GOODS_CATEGORY          1670214 non-null  object \n",
      " 19  NAME_PORTFOLIO               1670214 non-null  object \n",
      " 20  NAME_PRODUCT_TYPE            1670214 non-null  object \n",
      " 21  CHANNEL_TYPE                 1670214 non-null  object \n",
      " 22  SELLERPLACE_AREA             1670214 non-null  int64  \n",
      " 23  NAME_SELLER_INDUSTRY         1670214 non-null  object \n",
      " 24  CNT_PAYMENT                  1670214 non-null  float64\n",
      " 25  NAME_YIELD_GROUP             1670214 non-null  object \n",
      " 26  PRODUCT_COMBINATION          1670214 non-null  object \n",
      "dtypes: float64(5), int64(6), object(16)\n",
      "memory usage: 344.1+ MB\n"
     ]
    }
   ],
   "source": [
    "previousApplication.info()"
   ]
  },
  {
   "cell_type": "markdown",
   "id": "4002a8a2-9bba-410d-8a6f-ee58e02f3f9b",
   "metadata": {},
   "source": [
    "# application data set "
   ]
  },
  {
   "cell_type": "code",
   "execution_count": 37,
   "id": "3b46ac7c-be31-4cc9-a3d1-8fd5fb8b3498",
   "metadata": {},
   "outputs": [],
   "source": [
    "applications=pd.read_csv('application_data.csv')"
   ]
  },
  {
   "cell_type": "code",
   "execution_count": 38,
   "id": "651a1717-569c-4f9a-81b2-842b414fd222",
   "metadata": {},
   "outputs": [
    {
     "name": "stdout",
     "output_type": "stream",
     "text": [
      "<class 'pandas.core.frame.DataFrame'>\n",
      "RangeIndex: 307511 entries, 0 to 307510\n",
      "Columns: 122 entries, SK_ID_CURR to AMT_REQ_CREDIT_BUREAU_YEAR\n",
      "dtypes: float64(65), int64(41), object(16)\n",
      "memory usage: 286.2+ MB\n"
     ]
    }
   ],
   "source": [
    "applications.info()"
   ]
  },
  {
   "cell_type": "code",
   "execution_count": 39,
   "id": "030abb9a-44d5-4171-830a-f373a575000e",
   "metadata": {},
   "outputs": [
    {
     "data": {
      "text/plain": [
       "SK_ID_CURR                       0.000000\n",
       "TARGET                           0.000000\n",
       "NAME_CONTRACT_TYPE               0.000000\n",
       "CODE_GENDER                      0.000000\n",
       "FLAG_OWN_CAR                     0.000000\n",
       "FLAG_OWN_REALTY                  0.000000\n",
       "CNT_CHILDREN                     0.000000\n",
       "AMT_INCOME_TOTAL                 0.000000\n",
       "AMT_CREDIT                       0.000000\n",
       "AMT_ANNUITY                      0.003902\n",
       "AMT_GOODS_PRICE                  0.090403\n",
       "NAME_TYPE_SUITE                  0.420148\n",
       "NAME_INCOME_TYPE                 0.000000\n",
       "NAME_EDUCATION_TYPE              0.000000\n",
       "NAME_FAMILY_STATUS               0.000000\n",
       "NAME_HOUSING_TYPE                0.000000\n",
       "REGION_POPULATION_RELATIVE       0.000000\n",
       "DAYS_BIRTH                       0.000000\n",
       "DAYS_EMPLOYED                    0.000000\n",
       "DAYS_REGISTRATION                0.000000\n",
       "DAYS_ID_PUBLISH                  0.000000\n",
       "OWN_CAR_AGE                     65.990810\n",
       "FLAG_MOBIL                       0.000000\n",
       "FLAG_EMP_PHONE                   0.000000\n",
       "FLAG_WORK_PHONE                  0.000000\n",
       "FLAG_CONT_MOBILE                 0.000000\n",
       "FLAG_PHONE                       0.000000\n",
       "FLAG_EMAIL                       0.000000\n",
       "OCCUPATION_TYPE                 31.345545\n",
       "CNT_FAM_MEMBERS                  0.000650\n",
       "REGION_RATING_CLIENT             0.000000\n",
       "REGION_RATING_CLIENT_W_CITY      0.000000\n",
       "WEEKDAY_APPR_PROCESS_START       0.000000\n",
       "HOUR_APPR_PROCESS_START          0.000000\n",
       "REG_REGION_NOT_LIVE_REGION       0.000000\n",
       "REG_REGION_NOT_WORK_REGION       0.000000\n",
       "LIVE_REGION_NOT_WORK_REGION      0.000000\n",
       "REG_CITY_NOT_LIVE_CITY           0.000000\n",
       "REG_CITY_NOT_WORK_CITY           0.000000\n",
       "LIVE_CITY_NOT_WORK_CITY          0.000000\n",
       "ORGANIZATION_TYPE                0.000000\n",
       "EXT_SOURCE_1                    56.381073\n",
       "EXT_SOURCE_2                     0.214626\n",
       "EXT_SOURCE_3                    19.825307\n",
       "APARTMENTS_AVG                  50.749729\n",
       "BASEMENTAREA_AVG                58.515956\n",
       "YEARS_BEGINEXPLUATATION_AVG     48.781019\n",
       "YEARS_BUILD_AVG                 66.497784\n",
       "COMMONAREA_AVG                  69.872297\n",
       "ELEVATORS_AVG                   53.295980\n",
       "ENTRANCES_AVG                   50.348768\n",
       "FLOORSMAX_AVG                   49.760822\n",
       "FLOORSMIN_AVG                   67.848630\n",
       "LANDAREA_AVG                    59.376738\n",
       "LIVINGAPARTMENTS_AVG            68.354953\n",
       "LIVINGAREA_AVG                  50.193326\n",
       "NONLIVINGAPARTMENTS_AVG         69.432963\n",
       "NONLIVINGAREA_AVG               55.179164\n",
       "APARTMENTS_MODE                 50.749729\n",
       "BASEMENTAREA_MODE               58.515956\n",
       "YEARS_BEGINEXPLUATATION_MODE    48.781019\n",
       "YEARS_BUILD_MODE                66.497784\n",
       "COMMONAREA_MODE                 69.872297\n",
       "ELEVATORS_MODE                  53.295980\n",
       "ENTRANCES_MODE                  50.348768\n",
       "FLOORSMAX_MODE                  49.760822\n",
       "FLOORSMIN_MODE                  67.848630\n",
       "LANDAREA_MODE                   59.376738\n",
       "LIVINGAPARTMENTS_MODE           68.354953\n",
       "LIVINGAREA_MODE                 50.193326\n",
       "NONLIVINGAPARTMENTS_MODE        69.432963\n",
       "NONLIVINGAREA_MODE              55.179164\n",
       "APARTMENTS_MEDI                 50.749729\n",
       "BASEMENTAREA_MEDI               58.515956\n",
       "YEARS_BEGINEXPLUATATION_MEDI    48.781019\n",
       "YEARS_BUILD_MEDI                66.497784\n",
       "COMMONAREA_MEDI                 69.872297\n",
       "ELEVATORS_MEDI                  53.295980\n",
       "ENTRANCES_MEDI                  50.348768\n",
       "FLOORSMAX_MEDI                  49.760822\n",
       "FLOORSMIN_MEDI                  67.848630\n",
       "LANDAREA_MEDI                   59.376738\n",
       "LIVINGAPARTMENTS_MEDI           68.354953\n",
       "LIVINGAREA_MEDI                 50.193326\n",
       "NONLIVINGAPARTMENTS_MEDI        69.432963\n",
       "NONLIVINGAREA_MEDI              55.179164\n",
       "FONDKAPREMONT_MODE              68.386172\n",
       "HOUSETYPE_MODE                  50.176091\n",
       "TOTALAREA_MODE                  48.268517\n",
       "WALLSMATERIAL_MODE              50.840783\n",
       "EMERGENCYSTATE_MODE             47.398304\n",
       "OBS_30_CNT_SOCIAL_CIRCLE         0.332021\n",
       "DEF_30_CNT_SOCIAL_CIRCLE         0.332021\n",
       "OBS_60_CNT_SOCIAL_CIRCLE         0.332021\n",
       "DEF_60_CNT_SOCIAL_CIRCLE         0.332021\n",
       "DAYS_LAST_PHONE_CHANGE           0.000325\n",
       "FLAG_DOCUMENT_2                  0.000000\n",
       "FLAG_DOCUMENT_3                  0.000000\n",
       "FLAG_DOCUMENT_4                  0.000000\n",
       "FLAG_DOCUMENT_5                  0.000000\n",
       "FLAG_DOCUMENT_6                  0.000000\n",
       "FLAG_DOCUMENT_7                  0.000000\n",
       "FLAG_DOCUMENT_8                  0.000000\n",
       "FLAG_DOCUMENT_9                  0.000000\n",
       "FLAG_DOCUMENT_10                 0.000000\n",
       "FLAG_DOCUMENT_11                 0.000000\n",
       "FLAG_DOCUMENT_12                 0.000000\n",
       "FLAG_DOCUMENT_13                 0.000000\n",
       "FLAG_DOCUMENT_14                 0.000000\n",
       "FLAG_DOCUMENT_15                 0.000000\n",
       "FLAG_DOCUMENT_16                 0.000000\n",
       "FLAG_DOCUMENT_17                 0.000000\n",
       "FLAG_DOCUMENT_18                 0.000000\n",
       "FLAG_DOCUMENT_19                 0.000000\n",
       "FLAG_DOCUMENT_20                 0.000000\n",
       "FLAG_DOCUMENT_21                 0.000000\n",
       "AMT_REQ_CREDIT_BUREAU_HOUR      13.501631\n",
       "AMT_REQ_CREDIT_BUREAU_DAY       13.501631\n",
       "AMT_REQ_CREDIT_BUREAU_WEEK      13.501631\n",
       "AMT_REQ_CREDIT_BUREAU_MON       13.501631\n",
       "AMT_REQ_CREDIT_BUREAU_QRT       13.501631\n",
       "AMT_REQ_CREDIT_BUREAU_YEAR      13.501631\n",
       "dtype: float64"
      ]
     },
     "execution_count": 39,
     "metadata": {},
     "output_type": "execute_result"
    }
   ],
   "source": [
    "pd.set_option(\"display.max_rows\", None, \"display.max_columns\", None)\n",
    "(applications.isnull().sum()/len(applications.index))*100"
   ]
  },
  {
   "cell_type": "code",
   "execution_count": 40,
   "id": "2fbf4759-be75-4ad4-955b-92090399afe3",
   "metadata": {},
   "outputs": [],
   "source": [
    "columnsToDelete = [\"OWN_CAR_AGE\", \"EXT_SOURCE_1\", \"APARTMENTS_AVG\", \n",
    "                   \"BASEMENTAREA_AVG\", \"YEARS_BUILD_AVG\", \"COMMONAREA_AVG\",\n",
    "                   \"ELEVATORS_AVG\", \"ENTRANCES_AVG\", \"FLOORSMIN_AVG\", \"LANDAREA_AVG\",\n",
    "                   \"LIVINGAPARTMENTS_AVG\", \"LIVINGAREA_AVG\", \"NONLIVINGAPARTMENTS_AVG\",\n",
    "                   \"NONLIVINGAREA_AVG\", \"APARTMENTS_MODE\", \"BASEMENTAREA_MODE\", \"YEARS_BUILD_MODE\",\n",
    "                   \"COMMONAREA_MODE\", \"ELEVATORS_MODE\", \"ENTRANCES_MODE\", \"FLOORSMIN_MODE\", \"LANDAREA_MODE\", \n",
    "                   \"LIVINGAPARTMENTS_MODE\", \"LIVINGAREA_MODE\", \"NONLIVINGAPARTMENTS_MODE\", \"NONLIVINGAREA_MODE\",\n",
    "                   \"APARTMENTS_MEDI\", \"BASEMENTAREA_MEDI\", \"YEARS_BUILD_MEDI\", \"COMMONAREA_MEDI\", \"ELEVATORS_MEDI\",\n",
    "                   \"ENTRANCES_MEDI\", \"FLOORSMIN_MEDI\", \"LANDAREA_MEDI\", \"LIVINGAPARTMENTS_MEDI\", \"LIVINGAREA_MEDI\",\n",
    "                   \"NONLIVINGAPARTMENTS_MEDI\", \"LIVINGAREA_MEDI\", \"NONLIVINGAPARTMENTS_MEDI\", \"NONLIVINGAREA_MEDI\", \n",
    "                   \"FONDKAPREMONT_MODE\", \"HOUSETYPE_MODE\", \"WALLSMATERIAL_MODE\"]"
   ]
  },
  {
   "cell_type": "code",
   "execution_count": 41,
   "id": "7f5d2a39-6788-49db-9584-d74e99a851bf",
   "metadata": {},
   "outputs": [],
   "source": [
    "columnsToDelete1 = ['YEARS_BEGINEXPLUATATION_AVG','FLOORSMAX_AVG','YEARS_BEGINEXPLUATATION_MODE',    \n",
    "'FLOORSMAX_MODE', 'YEARS_BEGINEXPLUATATION_MEDI','FLOORSMAX_MEDI','TOTALAREA_MODE','EMERGENCYSTATE_MODE']"
   ]
  },
  {
   "cell_type": "code",
   "execution_count": 42,
   "id": "5e726c2b-819c-4922-98e0-155d87830ded",
   "metadata": {},
   "outputs": [],
   "source": [
    "applications.drop(columnsToDelete, axis = 1, inplace = True)"
   ]
  },
  {
   "cell_type": "code",
   "execution_count": 43,
   "id": "3316dda9-d623-4196-83ef-5255205c0d6c",
   "metadata": {},
   "outputs": [],
   "source": [
    "applications.drop(columnsToDelete1, axis = 1, inplace = True)"
   ]
  },
  {
   "cell_type": "code",
   "execution_count": 44,
   "id": "92077f3f-6976-40c1-8138-7ce5c54fea7f",
   "metadata": {},
   "outputs": [
    {
     "data": {
      "text/plain": [
       "(307511, 73)"
      ]
     },
     "execution_count": 44,
     "metadata": {},
     "output_type": "execute_result"
    }
   ],
   "source": [
    "applications.shape"
   ]
  },
  {
   "cell_type": "code",
   "execution_count": 45,
   "id": "1417ca77-dfd3-49ff-b072-2c36f31a4fee",
   "metadata": {},
   "outputs": [
    {
     "data": {
      "text/plain": [
       "SK_ID_CURR                      0.000000\n",
       "TARGET                          0.000000\n",
       "NAME_CONTRACT_TYPE              0.000000\n",
       "CODE_GENDER                     0.000000\n",
       "FLAG_OWN_CAR                    0.000000\n",
       "FLAG_OWN_REALTY                 0.000000\n",
       "CNT_CHILDREN                    0.000000\n",
       "AMT_INCOME_TOTAL                0.000000\n",
       "AMT_CREDIT                      0.000000\n",
       "AMT_ANNUITY                     0.003902\n",
       "AMT_GOODS_PRICE                 0.090403\n",
       "NAME_TYPE_SUITE                 0.420148\n",
       "NAME_INCOME_TYPE                0.000000\n",
       "NAME_EDUCATION_TYPE             0.000000\n",
       "NAME_FAMILY_STATUS              0.000000\n",
       "NAME_HOUSING_TYPE               0.000000\n",
       "REGION_POPULATION_RELATIVE      0.000000\n",
       "DAYS_BIRTH                      0.000000\n",
       "DAYS_EMPLOYED                   0.000000\n",
       "DAYS_REGISTRATION               0.000000\n",
       "DAYS_ID_PUBLISH                 0.000000\n",
       "FLAG_MOBIL                      0.000000\n",
       "FLAG_EMP_PHONE                  0.000000\n",
       "FLAG_WORK_PHONE                 0.000000\n",
       "FLAG_CONT_MOBILE                0.000000\n",
       "FLAG_PHONE                      0.000000\n",
       "FLAG_EMAIL                      0.000000\n",
       "OCCUPATION_TYPE                31.345545\n",
       "CNT_FAM_MEMBERS                 0.000650\n",
       "REGION_RATING_CLIENT            0.000000\n",
       "REGION_RATING_CLIENT_W_CITY     0.000000\n",
       "WEEKDAY_APPR_PROCESS_START      0.000000\n",
       "HOUR_APPR_PROCESS_START         0.000000\n",
       "REG_REGION_NOT_LIVE_REGION      0.000000\n",
       "REG_REGION_NOT_WORK_REGION      0.000000\n",
       "LIVE_REGION_NOT_WORK_REGION     0.000000\n",
       "REG_CITY_NOT_LIVE_CITY          0.000000\n",
       "REG_CITY_NOT_WORK_CITY          0.000000\n",
       "LIVE_CITY_NOT_WORK_CITY         0.000000\n",
       "ORGANIZATION_TYPE               0.000000\n",
       "EXT_SOURCE_2                    0.214626\n",
       "EXT_SOURCE_3                   19.825307\n",
       "OBS_30_CNT_SOCIAL_CIRCLE        0.332021\n",
       "DEF_30_CNT_SOCIAL_CIRCLE        0.332021\n",
       "OBS_60_CNT_SOCIAL_CIRCLE        0.332021\n",
       "DEF_60_CNT_SOCIAL_CIRCLE        0.332021\n",
       "DAYS_LAST_PHONE_CHANGE          0.000325\n",
       "FLAG_DOCUMENT_2                 0.000000\n",
       "FLAG_DOCUMENT_3                 0.000000\n",
       "FLAG_DOCUMENT_4                 0.000000\n",
       "FLAG_DOCUMENT_5                 0.000000\n",
       "FLAG_DOCUMENT_6                 0.000000\n",
       "FLAG_DOCUMENT_7                 0.000000\n",
       "FLAG_DOCUMENT_8                 0.000000\n",
       "FLAG_DOCUMENT_9                 0.000000\n",
       "FLAG_DOCUMENT_10                0.000000\n",
       "FLAG_DOCUMENT_11                0.000000\n",
       "FLAG_DOCUMENT_12                0.000000\n",
       "FLAG_DOCUMENT_13                0.000000\n",
       "FLAG_DOCUMENT_14                0.000000\n",
       "FLAG_DOCUMENT_15                0.000000\n",
       "FLAG_DOCUMENT_16                0.000000\n",
       "FLAG_DOCUMENT_17                0.000000\n",
       "FLAG_DOCUMENT_18                0.000000\n",
       "FLAG_DOCUMENT_19                0.000000\n",
       "FLAG_DOCUMENT_20                0.000000\n",
       "FLAG_DOCUMENT_21                0.000000\n",
       "AMT_REQ_CREDIT_BUREAU_HOUR     13.501631\n",
       "AMT_REQ_CREDIT_BUREAU_DAY      13.501631\n",
       "AMT_REQ_CREDIT_BUREAU_WEEK     13.501631\n",
       "AMT_REQ_CREDIT_BUREAU_MON      13.501631\n",
       "AMT_REQ_CREDIT_BUREAU_QRT      13.501631\n",
       "AMT_REQ_CREDIT_BUREAU_YEAR     13.501631\n",
       "dtype: float64"
      ]
     },
     "execution_count": 45,
     "metadata": {},
     "output_type": "execute_result"
    }
   ],
   "source": [
    "(applications.isnull().sum()/len(applications.index))*100"
   ]
  },
  {
   "cell_type": "code",
   "execution_count": 46,
   "id": "9ffd41a6-8429-4507-bc52-1d8b479a24da",
   "metadata": {},
   "outputs": [],
   "source": [
    "applications.drop([ \"FLAG_MOBIL\", \"FLAG_EMP_PHONE\", \"FLAG_WORK_PHONE\", \"FLAG_CONT_MOBILE\", \n",
    "\"FLAG_PHONE\", \"REGION_RATING_CLIENT\", \"REGION_RATING_CLIENT_W_CITY\", \"FLAG_EMAIL\", \"REGION_RATING_CLIENT\",\n",
    " \"REGION_RATING_CLIENT_W_CITY\", \"DAYS_LAST_PHONE_CHANGE\",\"FLAG_DOCUMENT_2\", \"FLAG_DOCUMENT_3\", \"FLAG_DOCUMENT_4\", \n",
    "\"FLAG_DOCUMENT_5\", \"FLAG_DOCUMENT_6\", \"FLAG_DOCUMENT_7\", \"FLAG_DOCUMENT_8\", \"FLAG_DOCUMENT_9\", \"FLAG_DOCUMENT_10\", \n",
    "\"FLAG_DOCUMENT_11\", \"FLAG_DOCUMENT_12\", \"FLAG_DOCUMENT_13\", \"FLAG_DOCUMENT_14\", \"FLAG_DOCUMENT_15\", \"FLAG_DOCUMENT_16\",\n",
    " \"FLAG_DOCUMENT_17\", \"FLAG_DOCUMENT_18\", \"FLAG_DOCUMENT_19\", \"FLAG_DOCUMENT_20\", \"FLAG_DOCUMENT_21\", \"EXT_SOURCE_2\",\n",
    " \"EXT_SOURCE_3\"], axis=1, inplace = True)"
   ]
  },
  {
   "cell_type": "code",
   "execution_count": 47,
   "id": "0f390617-b50c-4354-a4f2-d7c97a726b28",
   "metadata": {},
   "outputs": [
    {
     "data": {
      "text/plain": [
       "(307511, 42)"
      ]
     },
     "execution_count": 47,
     "metadata": {},
     "output_type": "execute_result"
    }
   ],
   "source": [
    "applications.shape"
   ]
  },
  {
   "cell_type": "code",
   "execution_count": 48,
   "id": "45abcae1-36ca-4faf-8d11-3fb2c3d8a091",
   "metadata": {},
   "outputs": [
    {
     "data": {
      "text/plain": [
       "SK_ID_CURR                      0.000000\n",
       "TARGET                          0.000000\n",
       "NAME_CONTRACT_TYPE              0.000000\n",
       "CODE_GENDER                     0.000000\n",
       "FLAG_OWN_CAR                    0.000000\n",
       "FLAG_OWN_REALTY                 0.000000\n",
       "CNT_CHILDREN                    0.000000\n",
       "AMT_INCOME_TOTAL                0.000000\n",
       "AMT_CREDIT                      0.000000\n",
       "AMT_ANNUITY                     0.003902\n",
       "AMT_GOODS_PRICE                 0.090403\n",
       "NAME_TYPE_SUITE                 0.420148\n",
       "NAME_INCOME_TYPE                0.000000\n",
       "NAME_EDUCATION_TYPE             0.000000\n",
       "NAME_FAMILY_STATUS              0.000000\n",
       "NAME_HOUSING_TYPE               0.000000\n",
       "REGION_POPULATION_RELATIVE      0.000000\n",
       "DAYS_BIRTH                      0.000000\n",
       "DAYS_EMPLOYED                   0.000000\n",
       "DAYS_REGISTRATION               0.000000\n",
       "DAYS_ID_PUBLISH                 0.000000\n",
       "OCCUPATION_TYPE                31.345545\n",
       "CNT_FAM_MEMBERS                 0.000650\n",
       "WEEKDAY_APPR_PROCESS_START      0.000000\n",
       "HOUR_APPR_PROCESS_START         0.000000\n",
       "REG_REGION_NOT_LIVE_REGION      0.000000\n",
       "REG_REGION_NOT_WORK_REGION      0.000000\n",
       "LIVE_REGION_NOT_WORK_REGION     0.000000\n",
       "REG_CITY_NOT_LIVE_CITY          0.000000\n",
       "REG_CITY_NOT_WORK_CITY          0.000000\n",
       "LIVE_CITY_NOT_WORK_CITY         0.000000\n",
       "ORGANIZATION_TYPE               0.000000\n",
       "OBS_30_CNT_SOCIAL_CIRCLE        0.332021\n",
       "DEF_30_CNT_SOCIAL_CIRCLE        0.332021\n",
       "OBS_60_CNT_SOCIAL_CIRCLE        0.332021\n",
       "DEF_60_CNT_SOCIAL_CIRCLE        0.332021\n",
       "AMT_REQ_CREDIT_BUREAU_HOUR     13.501631\n",
       "AMT_REQ_CREDIT_BUREAU_DAY      13.501631\n",
       "AMT_REQ_CREDIT_BUREAU_WEEK     13.501631\n",
       "AMT_REQ_CREDIT_BUREAU_MON      13.501631\n",
       "AMT_REQ_CREDIT_BUREAU_QRT      13.501631\n",
       "AMT_REQ_CREDIT_BUREAU_YEAR     13.501631\n",
       "dtype: float64"
      ]
     },
     "execution_count": 48,
     "metadata": {},
     "output_type": "execute_result"
    }
   ],
   "source": [
    "(applications.isnull().sum()/len(applications.index))*100"
   ]
  },
  {
   "cell_type": "code",
   "execution_count": 49,
   "id": "3cb4cb0b-bc53-427c-bae5-34b505ff1a18",
   "metadata": {},
   "outputs": [],
   "source": [
    "applications.drop(['AMT_REQ_CREDIT_BUREAU_YEAR','AMT_REQ_CREDIT_BUREAU_QRT','AMT_REQ_CREDIT_BUREAU_MON','AMT_REQ_CREDIT_BUREAU_WEEK',\n",
    "                  'AMT_REQ_CREDIT_BUREAU_DAY','AMT_REQ_CREDIT_BUREAU_HOUR'], axis=1, inplace = True)"
   ]
  },
  {
   "cell_type": "code",
   "execution_count": 50,
   "id": "68139353-b45a-4650-877a-9de1a92515e6",
   "metadata": {},
   "outputs": [],
   "source": [
    "applications.drop(['OCCUPATION_TYPE'], axis=1, inplace = True)"
   ]
  },
  {
   "cell_type": "code",
   "execution_count": 51,
   "id": "54fc34a7-0539-41e6-8520-1fb7d351caaa",
   "metadata": {},
   "outputs": [
    {
     "data": {
      "text/plain": [
       "SK_ID_CURR                     0.000000\n",
       "TARGET                         0.000000\n",
       "NAME_CONTRACT_TYPE             0.000000\n",
       "CODE_GENDER                    0.000000\n",
       "FLAG_OWN_CAR                   0.000000\n",
       "FLAG_OWN_REALTY                0.000000\n",
       "CNT_CHILDREN                   0.000000\n",
       "AMT_INCOME_TOTAL               0.000000\n",
       "AMT_CREDIT                     0.000000\n",
       "AMT_ANNUITY                    0.003902\n",
       "AMT_GOODS_PRICE                0.090403\n",
       "NAME_TYPE_SUITE                0.420148\n",
       "NAME_INCOME_TYPE               0.000000\n",
       "NAME_EDUCATION_TYPE            0.000000\n",
       "NAME_FAMILY_STATUS             0.000000\n",
       "NAME_HOUSING_TYPE              0.000000\n",
       "REGION_POPULATION_RELATIVE     0.000000\n",
       "DAYS_BIRTH                     0.000000\n",
       "DAYS_EMPLOYED                  0.000000\n",
       "DAYS_REGISTRATION              0.000000\n",
       "DAYS_ID_PUBLISH                0.000000\n",
       "CNT_FAM_MEMBERS                0.000650\n",
       "WEEKDAY_APPR_PROCESS_START     0.000000\n",
       "HOUR_APPR_PROCESS_START        0.000000\n",
       "REG_REGION_NOT_LIVE_REGION     0.000000\n",
       "REG_REGION_NOT_WORK_REGION     0.000000\n",
       "LIVE_REGION_NOT_WORK_REGION    0.000000\n",
       "REG_CITY_NOT_LIVE_CITY         0.000000\n",
       "REG_CITY_NOT_WORK_CITY         0.000000\n",
       "LIVE_CITY_NOT_WORK_CITY        0.000000\n",
       "ORGANIZATION_TYPE              0.000000\n",
       "OBS_30_CNT_SOCIAL_CIRCLE       0.332021\n",
       "DEF_30_CNT_SOCIAL_CIRCLE       0.332021\n",
       "OBS_60_CNT_SOCIAL_CIRCLE       0.332021\n",
       "DEF_60_CNT_SOCIAL_CIRCLE       0.332021\n",
       "dtype: float64"
      ]
     },
     "execution_count": 51,
     "metadata": {},
     "output_type": "execute_result"
    }
   ],
   "source": [
    "(applications.isnull().sum()/len(applications.index))*100"
   ]
  },
  {
   "cell_type": "code",
   "execution_count": 130,
   "id": "7ed60e1c-64d5-4e19-9d7b-768f93390d0e",
   "metadata": {},
   "outputs": [
    {
     "data": {
      "image/png": "[encoded data removed]",
      "text/plain": [
       "<Figure size 640x480 with 1 Axes>"
      ]
     },
     "metadata": {},
     "output_type": "display_data"
    }
   ],
   "source": [
    "applications.boxplot(\"AMT_CREDIT\")\n",
    "plt.show()"
   ]
  },
  {
   "cell_type": "markdown",
   "id": "7d506072-1ba7-4b05-a798-bf38bab1dd0c",
   "metadata": {},
   "source": [
    "# Checking data with more than 30% null values"
   ]
  },
  {
   "cell_type": "code",
   "execution_count": 52,
   "id": "ee6cb661-d6b1-4529-b756-2a5d16584aef",
   "metadata": {},
   "outputs": [
    {
     "name": "stdout",
     "output_type": "stream",
     "text": [
      "<class 'pandas.core.frame.DataFrame'>\n",
      "RangeIndex: 307511 entries, 0 to 307510\n",
      "Data columns (total 35 columns):\n",
      " #   Column                       Non-Null Count   Dtype  \n",
      "---  ------                       --------------   -----  \n",
      " 0   SK_ID_CURR                   307511 non-null  int64  \n",
      " 1   TARGET                       307511 non-null  int64  \n",
      " 2   NAME_CONTRACT_TYPE           307511 non-null  object \n",
      " 3   CODE_GENDER                  307511 non-null  object \n",
      " 4   FLAG_OWN_CAR                 307511 non-null  object \n",
      " 5   FLAG_OWN_REALTY              307511 non-null  object \n",
      " 6   CNT_CHILDREN                 307511 non-null  int64  \n",
      " 7   AMT_INCOME_TOTAL             307511 non-null  float64\n",
      " 8   AMT_CREDIT                   307511 non-null  float64\n",
      " 9   AMT_ANNUITY                  307499 non-null  float64\n",
      " 10  AMT_GOODS_PRICE              307233 non-null  float64\n",
      " 11  NAME_TYPE_SUITE              306219 non-null  object \n",
      " 12  NAME_INCOME_TYPE             307511 non-null  object \n",
      " 13  NAME_EDUCATION_TYPE          307511 non-null  object \n",
      " 14  NAME_FAMILY_STATUS           307511 non-null  object \n",
      " 15  NAME_HOUSING_TYPE            307511 non-null  object \n",
      " 16  REGION_POPULATION_RELATIVE   307511 non-null  float64\n",
      " 17  DAYS_BIRTH                   307511 non-null  int64  \n",
      " 18  DAYS_EMPLOYED                307511 non-null  int64  \n",
      " 19  DAYS_REGISTRATION            307511 non-null  float64\n",
      " 20  DAYS_ID_PUBLISH              307511 non-null  int64  \n",
      " 21  CNT_FAM_MEMBERS              307509 non-null  float64\n",
      " 22  WEEKDAY_APPR_PROCESS_START   307511 non-null  object \n",
      " 23  HOUR_APPR_PROCESS_START      307511 non-null  int64  \n",
      " 24  REG_REGION_NOT_LIVE_REGION   307511 non-null  int64  \n",
      " 25  REG_REGION_NOT_WORK_REGION   307511 non-null  int64  \n",
      " 26  LIVE_REGION_NOT_WORK_REGION  307511 non-null  int64  \n",
      " 27  REG_CITY_NOT_LIVE_CITY       307511 non-null  int64  \n",
      " 28  REG_CITY_NOT_WORK_CITY       307511 non-null  int64  \n",
      " 29  LIVE_CITY_NOT_WORK_CITY      307511 non-null  int64  \n",
      " 30  ORGANIZATION_TYPE            307511 non-null  object \n",
      " 31  OBS_30_CNT_SOCIAL_CIRCLE     306490 non-null  float64\n",
      " 32  DEF_30_CNT_SOCIAL_CIRCLE     306490 non-null  float64\n",
      " 33  OBS_60_CNT_SOCIAL_CIRCLE     306490 non-null  float64\n",
      " 34  DEF_60_CNT_SOCIAL_CIRCLE     306490 non-null  float64\n",
      "dtypes: float64(11), int64(13), object(11)\n",
      "memory usage: 82.1+ MB\n"
     ]
    }
   ],
   "source": [
    "applications.info()"
   ]
  },
  {
   "cell_type": "code",
   "execution_count": 53,
   "id": "305a3c49-8222-4b11-8f3c-cb6f214e9c51",
   "metadata": {},
   "outputs": [
    {
     "data": {
      "text/plain": [
       "0.0"
      ]
     },
     "execution_count": 53,
     "metadata": {},
     "output_type": "execute_result"
    }
   ],
   "source": [
    "median_value1=applications['OBS_30_CNT_SOCIAL_CIRCLE'].median()\n",
    "median_value1"
   ]
  },
  {
   "cell_type": "code",
   "execution_count": 54,
   "id": "2211b21c-52aa-40ad-a162-99bf59ac944a",
   "metadata": {},
   "outputs": [
    {
     "data": {
      "text/plain": [
       "0.0"
      ]
     },
     "execution_count": 54,
     "metadata": {},
     "output_type": "execute_result"
    }
   ],
   "source": [
    "median_value2=applications['DEF_30_CNT_SOCIAL_CIRCLE'].median()\n",
    "median_value2"
   ]
  },
  {
   "cell_type": "code",
   "execution_count": 55,
   "id": "ccabeecf-f9f5-4e12-98fe-f095cab959f2",
   "metadata": {},
   "outputs": [
    {
     "data": {
      "text/plain": [
       "0.0"
      ]
     },
     "execution_count": 55,
     "metadata": {},
     "output_type": "execute_result"
    }
   ],
   "source": [
    "median_value3=applications['OBS_60_CNT_SOCIAL_CIRCLE'].median()\n",
    "median_value3"
   ]
  },
  {
   "cell_type": "code",
   "execution_count": 56,
   "id": "edc6e344-eb52-4854-88fb-e7820f66ca75",
   "metadata": {},
   "outputs": [
    {
     "data": {
      "text/plain": [
       "0.0"
      ]
     },
     "execution_count": 56,
     "metadata": {},
     "output_type": "execute_result"
    }
   ],
   "source": [
    "median_value4=applications['DEF_60_CNT_SOCIAL_CIRCLE'].median()\n",
    "median_value4"
   ]
  },
  {
   "cell_type": "markdown",
   "id": "f8df01db-10f8-4406-862c-92d580423ee7",
   "metadata": {},
   "source": [
    "# getting all medain value in zeros "
   ]
  },
  {
   "cell_type": "code",
   "execution_count": 57,
   "id": "5e85ea65-9930-46cc-90fb-51f1c8dcde65",
   "metadata": {},
   "outputs": [
    {
     "name": "stderr",
     "output_type": "stream",
     "text": [
      "C:\\Users\\amitk\\AppData\\Local\\Temp\\ipykernel_12012\\1677907437.py:1: FutureWarning: A value is trying to be set on a copy of a DataFrame or Series through chained assignment using an inplace method.\n",
      "The behavior will change in pandas 3.0. This inplace method will never work because the intermediate object on which we are setting values always behaves as a copy.\n",
      "\n",
      "For example, when doing 'df[col].method(value, inplace=True)', try using 'df.method({col: value}, inplace=True)' or df[col] = df[col].method(value) instead, to perform the operation inplace on the original object.\n",
      "\n",
      "\n",
      "  applications['OBS_30_CNT_SOCIAL_CIRCLE'].fillna(median_value1, inplace=True)\n"
     ]
    }
   ],
   "source": [
    "applications['OBS_30_CNT_SOCIAL_CIRCLE'].fillna(median_value1, inplace=True)"
   ]
  },
  {
   "cell_type": "code",
   "execution_count": 58,
   "id": "60d244ae-de32-45ea-8a83-a0a4bcf85e99",
   "metadata": {},
   "outputs": [
    {
     "name": "stderr",
     "output_type": "stream",
     "text": [
      "C:\\Users\\amitk\\AppData\\Local\\Temp\\ipykernel_12012\\724887308.py:1: FutureWarning: A value is trying to be set on a copy of a DataFrame or Series through chained assignment using an inplace method.\n",
      "The behavior will change in pandas 3.0. This inplace method will never work because the intermediate object on which we are setting values always behaves as a copy.\n",
      "\n",
      "For example, when doing 'df[col].method(value, inplace=True)', try using 'df.method({col: value}, inplace=True)' or df[col] = df[col].method(value) instead, to perform the operation inplace on the original object.\n",
      "\n",
      "\n",
      "  applications['DEF_30_CNT_SOCIAL_CIRCLE'].fillna(median_value2, inplace=True)\n"
     ]
    }
   ],
   "source": [
    "applications['DEF_30_CNT_SOCIAL_CIRCLE'].fillna(median_value2, inplace=True)"
   ]
  },
  {
   "cell_type": "code",
   "execution_count": 59,
   "id": "6956232b-8db5-4c65-941a-5fc5723b072e",
   "metadata": {},
   "outputs": [
    {
     "name": "stderr",
     "output_type": "stream",
     "text": [
      "C:\\Users\\amitk\\AppData\\Local\\Temp\\ipykernel_12012\\1402471060.py:1: FutureWarning: A value is trying to be set on a copy of a DataFrame or Series through chained assignment using an inplace method.\n",
      "The behavior will change in pandas 3.0. This inplace method will never work because the intermediate object on which we are setting values always behaves as a copy.\n",
      "\n",
      "For example, when doing 'df[col].method(value, inplace=True)', try using 'df.method({col: value}, inplace=True)' or df[col] = df[col].method(value) instead, to perform the operation inplace on the original object.\n",
      "\n",
      "\n",
      "  applications['OBS_60_CNT_SOCIAL_CIRCLE'].fillna(median_value3, inplace=True)\n"
     ]
    }
   ],
   "source": [
    "applications['OBS_60_CNT_SOCIAL_CIRCLE'].fillna(median_value3, inplace=True)"
   ]
  },
  {
   "cell_type": "code",
   "execution_count": 60,
   "id": "237fe7d7-b1c5-4b28-bf49-528a2efd0979",
   "metadata": {},
   "outputs": [
    {
     "name": "stderr",
     "output_type": "stream",
     "text": [
      "C:\\Users\\amitk\\AppData\\Local\\Temp\\ipykernel_12012\\1427204731.py:1: FutureWarning: A value is trying to be set on a copy of a DataFrame or Series through chained assignment using an inplace method.\n",
      "The behavior will change in pandas 3.0. This inplace method will never work because the intermediate object on which we are setting values always behaves as a copy.\n",
      "\n",
      "For example, when doing 'df[col].method(value, inplace=True)', try using 'df.method({col: value}, inplace=True)' or df[col] = df[col].method(value) instead, to perform the operation inplace on the original object.\n",
      "\n",
      "\n",
      "  applications['DEF_60_CNT_SOCIAL_CIRCLE'].fillna(median_value4, inplace=True)\n"
     ]
    }
   ],
   "source": [
    "applications['DEF_60_CNT_SOCIAL_CIRCLE'].fillna(median_value4, inplace=True)"
   ]
  },
  {
   "cell_type": "code",
   "execution_count": 61,
   "id": "bc3d68cb-0075-4ec9-be17-de64862b5701",
   "metadata": {},
   "outputs": [
    {
     "data": {
      "text/plain": [
       "SK_ID_CURR                     0.000000\n",
       "TARGET                         0.000000\n",
       "NAME_CONTRACT_TYPE             0.000000\n",
       "CODE_GENDER                    0.000000\n",
       "FLAG_OWN_CAR                   0.000000\n",
       "FLAG_OWN_REALTY                0.000000\n",
       "CNT_CHILDREN                   0.000000\n",
       "AMT_INCOME_TOTAL               0.000000\n",
       "AMT_CREDIT                     0.000000\n",
       "AMT_ANNUITY                    0.003902\n",
       "AMT_GOODS_PRICE                0.090403\n",
       "NAME_TYPE_SUITE                0.420148\n",
       "NAME_INCOME_TYPE               0.000000\n",
       "NAME_EDUCATION_TYPE            0.000000\n",
       "NAME_FAMILY_STATUS             0.000000\n",
       "NAME_HOUSING_TYPE              0.000000\n",
       "REGION_POPULATION_RELATIVE     0.000000\n",
       "DAYS_BIRTH                     0.000000\n",
       "DAYS_EMPLOYED                  0.000000\n",
       "DAYS_REGISTRATION              0.000000\n",
       "DAYS_ID_PUBLISH                0.000000\n",
       "CNT_FAM_MEMBERS                0.000650\n",
       "WEEKDAY_APPR_PROCESS_START     0.000000\n",
       "HOUR_APPR_PROCESS_START        0.000000\n",
       "REG_REGION_NOT_LIVE_REGION     0.000000\n",
       "REG_REGION_NOT_WORK_REGION     0.000000\n",
       "LIVE_REGION_NOT_WORK_REGION    0.000000\n",
       "REG_CITY_NOT_LIVE_CITY         0.000000\n",
       "REG_CITY_NOT_WORK_CITY         0.000000\n",
       "LIVE_CITY_NOT_WORK_CITY        0.000000\n",
       "ORGANIZATION_TYPE              0.000000\n",
       "OBS_30_CNT_SOCIAL_CIRCLE       0.000000\n",
       "DEF_30_CNT_SOCIAL_CIRCLE       0.000000\n",
       "OBS_60_CNT_SOCIAL_CIRCLE       0.000000\n",
       "DEF_60_CNT_SOCIAL_CIRCLE       0.000000\n",
       "dtype: float64"
      ]
     },
     "execution_count": 61,
     "metadata": {},
     "output_type": "execute_result"
    }
   ],
   "source": [
    "(applications.isnull().sum()/len(applications.index))*100"
   ]
  },
  {
   "cell_type": "code",
   "execution_count": 84,
   "id": "e42fb420-a431-4059-a406-f6a29c4c8680",
   "metadata": {},
   "outputs": [],
   "source": [
    "merged_df = pd.concat([previousApplication, applications], join='inner',axis=1)"
   ]
  },
  {
   "cell_type": "code",
   "execution_count": 104,
   "id": "99f6c974-9948-4c27-afbf-a59e395a91d9",
   "metadata": {},
   "outputs": [
    {
     "name": "stdout",
     "output_type": "stream",
     "text": [
      "<class 'pandas.core.frame.DataFrame'>\n",
      "RangeIndex: 307511 entries, 0 to 307510\n",
      "Data columns (total 54 columns):\n",
      " #   Column                       Non-Null Count   Dtype  \n",
      "---  ------                       --------------   -----  \n",
      " 0   SK_ID_PREV                   307511 non-null  int64  \n",
      " 1   SK_ID_CURR                   307511 non-null  int64  \n",
      " 2   NAME_CONTRACT_TYPE           307511 non-null  object \n",
      " 3   AMT_ANNUITY                  307511 non-null  float64\n",
      " 4   AMT_APPLICATION              307511 non-null  float64\n",
      " 5   AMT_CREDIT                   307511 non-null  float64\n",
      " 6   AMT_GOODS_PRICE              307511 non-null  float64\n",
      " 7   WEEKDAY_APPR_PROCESS_START   307511 non-null  object \n",
      " 8   HOUR_APPR_PROCESS_START      307511 non-null  int64  \n",
      " 9   FLAG_LAST_APPL_PER_CONTRACT  307511 non-null  object \n",
      " 10  NFLAG_LAST_APPL_IN_DAY       307511 non-null  int64  \n",
      " 11  NAME_CASH_LOAN_PURPOSE       307511 non-null  object \n",
      " 12  NAME_CONTRACT_STATUS         307511 non-null  object \n",
      " 13  DAYS_DECISION                307511 non-null  int64  \n",
      " 14  NAME_PAYMENT_TYPE            307511 non-null  object \n",
      " 15  CODE_REJECT_REASON           307511 non-null  object \n",
      " 16  NAME_TYPE_SUITE              307511 non-null  object \n",
      " 17  NAME_CLIENT_TYPE             307511 non-null  object \n",
      " 18  NAME_GOODS_CATEGORY          307511 non-null  object \n",
      " 19  NAME_PORTFOLIO               307511 non-null  object \n",
      " 20  NAME_PRODUCT_TYPE            307511 non-null  object \n",
      " 21  CHANNEL_TYPE                 307511 non-null  object \n",
      " 22  SELLERPLACE_AREA             307511 non-null  int64  \n",
      " 23  NAME_SELLER_INDUSTRY         307511 non-null  object \n",
      " 24  CNT_PAYMENT                  307511 non-null  float64\n",
      " 25  NAME_YIELD_GROUP             307511 non-null  object \n",
      " 26  PRODUCT_COMBINATION          307511 non-null  object \n",
      " 27  TARGET                       307511 non-null  int64  \n",
      " 28  CODE_GENDER                  307511 non-null  object \n",
      " 29  FLAG_OWN_CAR                 307511 non-null  object \n",
      " 30  FLAG_OWN_REALTY              307511 non-null  object \n",
      " 31  CNT_CHILDREN                 307511 non-null  int64  \n",
      " 32  AMT_INCOME_TOTAL             307511 non-null  float64\n",
      " 33  NAME_INCOME_TYPE             307511 non-null  object \n",
      " 34  NAME_EDUCATION_TYPE          307511 non-null  object \n",
      " 35  NAME_FAMILY_STATUS           307511 non-null  object \n",
      " 36  NAME_HOUSING_TYPE            307511 non-null  object \n",
      " 37  REGION_POPULATION_RELATIVE   307511 non-null  float64\n",
      " 38  DAYS_BIRTH                   307511 non-null  int64  \n",
      " 39  DAYS_EMPLOYED                307511 non-null  int64  \n",
      " 40  DAYS_REGISTRATION            307511 non-null  float64\n",
      " 41  DAYS_ID_PUBLISH              307511 non-null  int64  \n",
      " 42  CNT_FAM_MEMBERS              307509 non-null  float64\n",
      " 43  REG_REGION_NOT_LIVE_REGION   307511 non-null  int64  \n",
      " 44  REG_REGION_NOT_WORK_REGION   307511 non-null  int64  \n",
      " 45  LIVE_REGION_NOT_WORK_REGION  307511 non-null  int64  \n",
      " 46  REG_CITY_NOT_LIVE_CITY       307511 non-null  int64  \n",
      " 47  REG_CITY_NOT_WORK_CITY       307511 non-null  int64  \n",
      " 48  LIVE_CITY_NOT_WORK_CITY      307511 non-null  int64  \n",
      " 49  ORGANIZATION_TYPE            307511 non-null  object \n",
      " 50  OBS_30_CNT_SOCIAL_CIRCLE     307511 non-null  float64\n",
      " 51  DEF_30_CNT_SOCIAL_CIRCLE     307511 non-null  float64\n",
      " 52  OBS_60_CNT_SOCIAL_CIRCLE     307511 non-null  float64\n",
      " 53  DEF_60_CNT_SOCIAL_CIRCLE     307511 non-null  float64\n",
      "dtypes: float64(13), int64(17), object(24)\n",
      "memory usage: 126.7+ MB\n"
     ]
    }
   ],
   "source": [
    "merged_df.info()"
   ]
  },
  {
   "cell_type": "code",
   "execution_count": 103,
   "id": "18a48315-058a-414f-83df-a16ce5de1e04",
   "metadata": {},
   "outputs": [
    {
     "name": "stdout",
     "output_type": "stream",
     "text": [
      "[False False False False False False False False False False False False\n",
      " False False False False False False False False False False False False\n",
      " False False False  True False  True False False False False False  True\n",
      "  True  True  True False False False False False False False False False\n",
      " False  True  True False False False False False False False False False\n",
      " False False]\n"
     ]
    }
   ],
   "source": [
    "print(merged_df.columns.duplicated())  # Shows True for duplicate columns\n",
    "merged_df = merged_df.loc[:, ~merged_df.columns.duplicated()]"
   ]
  },
  {
   "cell_type": "code",
   "execution_count": 102,
   "id": "2b5dacc5-e669-40de-9362-b85f69ad200a",
   "metadata": {},
   "outputs": [
    {
     "data": {
      "text/plain": [
       "SK_ID_PREV                     0.000000\n",
       "SK_ID_CURR                     0.000000\n",
       "NAME_CONTRACT_TYPE             0.000000\n",
       "AMT_ANNUITY                    0.000000\n",
       "AMT_APPLICATION                0.000000\n",
       "AMT_CREDIT                     0.000000\n",
       "AMT_GOODS_PRICE                0.000000\n",
       "WEEKDAY_APPR_PROCESS_START     0.000000\n",
       "HOUR_APPR_PROCESS_START        0.000000\n",
       "FLAG_LAST_APPL_PER_CONTRACT    0.000000\n",
       "NFLAG_LAST_APPL_IN_DAY         0.000000\n",
       "NAME_CASH_LOAN_PURPOSE         0.000000\n",
       "NAME_CONTRACT_STATUS           0.000000\n",
       "DAYS_DECISION                  0.000000\n",
       "NAME_PAYMENT_TYPE              0.000000\n",
       "CODE_REJECT_REASON             0.000000\n",
       "NAME_TYPE_SUITE                0.000000\n",
       "NAME_CLIENT_TYPE               0.000000\n",
       "NAME_GOODS_CATEGORY            0.000000\n",
       "NAME_PORTFOLIO                 0.000000\n",
       "NAME_PRODUCT_TYPE              0.000000\n",
       "CHANNEL_TYPE                   0.000000\n",
       "SELLERPLACE_AREA               0.000000\n",
       "NAME_SELLER_INDUSTRY           0.000000\n",
       "CNT_PAYMENT                    0.000000\n",
       "NAME_YIELD_GROUP               0.000000\n",
       "PRODUCT_COMBINATION            0.000000\n",
       "SK_ID_CURR                     0.000000\n",
       "TARGET                         0.000000\n",
       "NAME_CONTRACT_TYPE             0.000000\n",
       "CODE_GENDER                    0.000000\n",
       "FLAG_OWN_CAR                   0.000000\n",
       "FLAG_OWN_REALTY                0.000000\n",
       "CNT_CHILDREN                   0.000000\n",
       "AMT_INCOME_TOTAL               0.000000\n",
       "AMT_CREDIT                     0.000000\n",
       "AMT_ANNUITY                    0.003902\n",
       "AMT_GOODS_PRICE                0.090403\n",
       "NAME_TYPE_SUITE                0.420148\n",
       "NAME_INCOME_TYPE               0.000000\n",
       "NAME_EDUCATION_TYPE            0.000000\n",
       "NAME_FAMILY_STATUS             0.000000\n",
       "NAME_HOUSING_TYPE              0.000000\n",
       "REGION_POPULATION_RELATIVE     0.000000\n",
       "DAYS_BIRTH                     0.000000\n",
       "DAYS_EMPLOYED                  0.000000\n",
       "DAYS_REGISTRATION              0.000000\n",
       "DAYS_ID_PUBLISH                0.000000\n",
       "CNT_FAM_MEMBERS                0.000650\n",
       "WEEKDAY_APPR_PROCESS_START     0.000000\n",
       "HOUR_APPR_PROCESS_START        0.000000\n",
       "REG_REGION_NOT_LIVE_REGION     0.000000\n",
       "REG_REGION_NOT_WORK_REGION     0.000000\n",
       "LIVE_REGION_NOT_WORK_REGION    0.000000\n",
       "REG_CITY_NOT_LIVE_CITY         0.000000\n",
       "REG_CITY_NOT_WORK_CITY         0.000000\n",
       "LIVE_CITY_NOT_WORK_CITY        0.000000\n",
       "ORGANIZATION_TYPE              0.000000\n",
       "OBS_30_CNT_SOCIAL_CIRCLE       0.000000\n",
       "DEF_30_CNT_SOCIAL_CIRCLE       0.000000\n",
       "OBS_60_CNT_SOCIAL_CIRCLE       0.000000\n",
       "DEF_60_CNT_SOCIAL_CIRCLE       0.000000\n",
       "dtype: float64"
      ]
     },
     "execution_count": 102,
     "metadata": {},
     "output_type": "execute_result"
    }
   ],
   "source": [
    "(merged_df.isnull().sum()/len(merged_df.index))*100"
   ]
  },
  {
   "cell_type": "code",
   "execution_count": 87,
   "id": "4420cb10-ac1e-4568-924d-50b0e9fec72e",
   "metadata": {},
   "outputs": [
    {
     "data": {
      "text/plain": [
       "AMT_CREDIT     79204.5\n",
       "AMT_CREDIT    513531.0\n",
       "dtype: float64"
      ]
     },
     "execution_count": 87,
     "metadata": {},
     "output_type": "execute_result"
    }
   ],
   "source": [
    "median=merged_df['AMT_CREDIT'].median()\n",
    "median"
   ]
  },
  {
   "cell_type": "code",
   "execution_count": 88,
   "id": "1807afce-88a4-4b38-880b-4a0a26d63cc8",
   "metadata": {},
   "outputs": [
    {
     "name": "stderr",
     "output_type": "stream",
     "text": [
      "C:\\Users\\amitk\\AppData\\Local\\Temp\\ipykernel_12012\\3857255804.py:1: SettingWithCopyWarning: \n",
      "A value is trying to be set on a copy of a slice from a DataFrame\n",
      "\n",
      "See the caveats in the documentation: https://pandas.pydata.org/pandas-docs/stable/user_guide/indexing.html#returning-a-view-versus-a-copy\n",
      "  merged_df['AMT_CREDIT'].fillna(median, inplace=True)\n"
     ]
    }
   ],
   "source": [
    "merged_df['AMT_CREDIT'].fillna(median, inplace=True)"
   ]
  },
  {
   "cell_type": "code",
   "execution_count": 89,
   "id": "2fa021a6-4e7a-4d01-aa1d-d6d85a2dfeec",
   "metadata": {},
   "outputs": [
    {
     "data": {
      "text/plain": [
       "AMT_ANNUITY    11250.0\n",
       "AMT_ANNUITY    24903.0\n",
       "dtype: float64"
      ]
     },
     "execution_count": 89,
     "metadata": {},
     "output_type": "execute_result"
    }
   ],
   "source": [
    "\n",
    "median=merged_df['AMT_ANNUITY'].median()\n",
    "median"
   ]
  },
  {
   "cell_type": "code",
   "execution_count": 90,
   "id": "770992cb-58f1-41ca-9649-9434c2256d86",
   "metadata": {},
   "outputs": [
    {
     "name": "stderr",
     "output_type": "stream",
     "text": [
      "C:\\Users\\amitk\\AppData\\Local\\Temp\\ipykernel_12012\\1852432433.py:1: SettingWithCopyWarning: \n",
      "A value is trying to be set on a copy of a slice from a DataFrame\n",
      "\n",
      "See the caveats in the documentation: https://pandas.pydata.org/pandas-docs/stable/user_guide/indexing.html#returning-a-view-versus-a-copy\n",
      "  merged_df['AMT_ANNUITY'].fillna(median, inplace=True)\n"
     ]
    }
   ],
   "source": [
    "merged_df['AMT_ANNUITY'].fillna(median, inplace=True)"
   ]
  },
  {
   "cell_type": "code",
   "execution_count": 91,
   "id": "f99e295c-bfcd-4e0c-ae69-351857e2bb21",
   "metadata": {},
   "outputs": [
    {
     "data": {
      "text/plain": [
       "AMT_GOODS_PRICE    112320.0\n",
       "AMT_GOODS_PRICE    450000.0\n",
       "dtype: float64"
      ]
     },
     "execution_count": 91,
     "metadata": {},
     "output_type": "execute_result"
    }
   ],
   "source": [
    "median=merged_df['AMT_GOODS_PRICE'].median()\n",
    "median"
   ]
  },
  {
   "cell_type": "code",
   "execution_count": 92,
   "id": "6e29980b-25b3-4e84-b254-bb197784290e",
   "metadata": {},
   "outputs": [
    {
     "name": "stderr",
     "output_type": "stream",
     "text": [
      "C:\\Users\\amitk\\AppData\\Local\\Temp\\ipykernel_12012\\1312509321.py:1: SettingWithCopyWarning: \n",
      "A value is trying to be set on a copy of a slice from a DataFrame\n",
      "\n",
      "See the caveats in the documentation: https://pandas.pydata.org/pandas-docs/stable/user_guide/indexing.html#returning-a-view-versus-a-copy\n",
      "  merged_df['AMT_GOODS_PRICE'].fillna(median, inplace=True)\n"
     ]
    }
   ],
   "source": [
    "merged_df['AMT_GOODS_PRICE'].fillna(median, inplace=True)"
   ]
  },
  {
   "cell_type": "code",
   "execution_count": 106,
   "id": "db7f9615-112a-4f96-ae74-f606db3353d3",
   "metadata": {},
   "outputs": [
    {
     "data": {
      "text/plain": [
       "SK_ID_PREV                     0.0\n",
       "SK_ID_CURR                     0.0\n",
       "NAME_CONTRACT_TYPE             0.0\n",
       "AMT_ANNUITY                    0.0\n",
       "AMT_APPLICATION                0.0\n",
       "AMT_CREDIT                     0.0\n",
       "AMT_GOODS_PRICE                0.0\n",
       "WEEKDAY_APPR_PROCESS_START     0.0\n",
       "HOUR_APPR_PROCESS_START        0.0\n",
       "FLAG_LAST_APPL_PER_CONTRACT    0.0\n",
       "NFLAG_LAST_APPL_IN_DAY         0.0\n",
       "NAME_CASH_LOAN_PURPOSE         0.0\n",
       "NAME_CONTRACT_STATUS           0.0\n",
       "DAYS_DECISION                  0.0\n",
       "NAME_PAYMENT_TYPE              0.0\n",
       "CODE_REJECT_REASON             0.0\n",
       "NAME_TYPE_SUITE                0.0\n",
       "NAME_CLIENT_TYPE               0.0\n",
       "NAME_GOODS_CATEGORY            0.0\n",
       "NAME_PORTFOLIO                 0.0\n",
       "NAME_PRODUCT_TYPE              0.0\n",
       "CHANNEL_TYPE                   0.0\n",
       "SELLERPLACE_AREA               0.0\n",
       "NAME_SELLER_INDUSTRY           0.0\n",
       "CNT_PAYMENT                    0.0\n",
       "NAME_YIELD_GROUP               0.0\n",
       "PRODUCT_COMBINATION            0.0\n",
       "TARGET                         0.0\n",
       "CODE_GENDER                    0.0\n",
       "FLAG_OWN_CAR                   0.0\n",
       "FLAG_OWN_REALTY                0.0\n",
       "CNT_CHILDREN                   0.0\n",
       "AMT_INCOME_TOTAL               0.0\n",
       "NAME_INCOME_TYPE               0.0\n",
       "NAME_EDUCATION_TYPE            0.0\n",
       "NAME_FAMILY_STATUS             0.0\n",
       "NAME_HOUSING_TYPE              0.0\n",
       "REGION_POPULATION_RELATIVE     0.0\n",
       "DAYS_BIRTH                     0.0\n",
       "DAYS_EMPLOYED                  0.0\n",
       "DAYS_REGISTRATION              0.0\n",
       "DAYS_ID_PUBLISH                0.0\n",
       "CNT_FAM_MEMBERS                0.0\n",
       "REG_REGION_NOT_LIVE_REGION     0.0\n",
       "REG_REGION_NOT_WORK_REGION     0.0\n",
       "LIVE_REGION_NOT_WORK_REGION    0.0\n",
       "REG_CITY_NOT_LIVE_CITY         0.0\n",
       "REG_CITY_NOT_WORK_CITY         0.0\n",
       "LIVE_CITY_NOT_WORK_CITY        0.0\n",
       "ORGANIZATION_TYPE              0.0\n",
       "OBS_30_CNT_SOCIAL_CIRCLE       0.0\n",
       "DEF_30_CNT_SOCIAL_CIRCLE       0.0\n",
       "OBS_60_CNT_SOCIAL_CIRCLE       0.0\n",
       "DEF_60_CNT_SOCIAL_CIRCLE       0.0\n",
       "dtype: float64"
      ]
     },
     "execution_count": 106,
     "metadata": {},
     "output_type": "execute_result"
    }
   ],
   "source": [
    "round((merged_df.isnull().sum()/len(merged_df.index))*100,2)"
   ]
  },
  {
   "cell_type": "code",
   "execution_count": 105,
   "id": "b164e821-7497-4e75-b466-156a8c7533ef",
   "metadata": {},
   "outputs": [
    {
     "name": "stdout",
     "output_type": "stream",
     "text": [
      "<class 'pandas.core.frame.DataFrame'>\n",
      "RangeIndex: 307511 entries, 0 to 307510\n",
      "Data columns (total 54 columns):\n",
      " #   Column                       Non-Null Count   Dtype  \n",
      "---  ------                       --------------   -----  \n",
      " 0   SK_ID_PREV                   307511 non-null  int64  \n",
      " 1   SK_ID_CURR                   307511 non-null  int64  \n",
      " 2   NAME_CONTRACT_TYPE           307511 non-null  object \n",
      " 3   AMT_ANNUITY                  307511 non-null  float64\n",
      " 4   AMT_APPLICATION              307511 non-null  float64\n",
      " 5   AMT_CREDIT                   307511 non-null  float64\n",
      " 6   AMT_GOODS_PRICE              307511 non-null  float64\n",
      " 7   WEEKDAY_APPR_PROCESS_START   307511 non-null  object \n",
      " 8   HOUR_APPR_PROCESS_START      307511 non-null  int64  \n",
      " 9   FLAG_LAST_APPL_PER_CONTRACT  307511 non-null  object \n",
      " 10  NFLAG_LAST_APPL_IN_DAY       307511 non-null  int64  \n",
      " 11  NAME_CASH_LOAN_PURPOSE       307511 non-null  object \n",
      " 12  NAME_CONTRACT_STATUS         307511 non-null  object \n",
      " 13  DAYS_DECISION                307511 non-null  int64  \n",
      " 14  NAME_PAYMENT_TYPE            307511 non-null  object \n",
      " 15  CODE_REJECT_REASON           307511 non-null  object \n",
      " 16  NAME_TYPE_SUITE              307511 non-null  object \n",
      " 17  NAME_CLIENT_TYPE             307511 non-null  object \n",
      " 18  NAME_GOODS_CATEGORY          307511 non-null  object \n",
      " 19  NAME_PORTFOLIO               307511 non-null  object \n",
      " 20  NAME_PRODUCT_TYPE            307511 non-null  object \n",
      " 21  CHANNEL_TYPE                 307511 non-null  object \n",
      " 22  SELLERPLACE_AREA             307511 non-null  int64  \n",
      " 23  NAME_SELLER_INDUSTRY         307511 non-null  object \n",
      " 24  CNT_PAYMENT                  307511 non-null  float64\n",
      " 25  NAME_YIELD_GROUP             307511 non-null  object \n",
      " 26  PRODUCT_COMBINATION          307511 non-null  object \n",
      " 27  TARGET                       307511 non-null  int64  \n",
      " 28  CODE_GENDER                  307511 non-null  object \n",
      " 29  FLAG_OWN_CAR                 307511 non-null  object \n",
      " 30  FLAG_OWN_REALTY              307511 non-null  object \n",
      " 31  CNT_CHILDREN                 307511 non-null  int64  \n",
      " 32  AMT_INCOME_TOTAL             307511 non-null  float64\n",
      " 33  NAME_INCOME_TYPE             307511 non-null  object \n",
      " 34  NAME_EDUCATION_TYPE          307511 non-null  object \n",
      " 35  NAME_FAMILY_STATUS           307511 non-null  object \n",
      " 36  NAME_HOUSING_TYPE            307511 non-null  object \n",
      " 37  REGION_POPULATION_RELATIVE   307511 non-null  float64\n",
      " 38  DAYS_BIRTH                   307511 non-null  int64  \n",
      " 39  DAYS_EMPLOYED                307511 non-null  int64  \n",
      " 40  DAYS_REGISTRATION            307511 non-null  float64\n",
      " 41  DAYS_ID_PUBLISH              307511 non-null  int64  \n",
      " 42  CNT_FAM_MEMBERS              307509 non-null  float64\n",
      " 43  REG_REGION_NOT_LIVE_REGION   307511 non-null  int64  \n",
      " 44  REG_REGION_NOT_WORK_REGION   307511 non-null  int64  \n",
      " 45  LIVE_REGION_NOT_WORK_REGION  307511 non-null  int64  \n",
      " 46  REG_CITY_NOT_LIVE_CITY       307511 non-null  int64  \n",
      " 47  REG_CITY_NOT_WORK_CITY       307511 non-null  int64  \n",
      " 48  LIVE_CITY_NOT_WORK_CITY      307511 non-null  int64  \n",
      " 49  ORGANIZATION_TYPE            307511 non-null  object \n",
      " 50  OBS_30_CNT_SOCIAL_CIRCLE     307511 non-null  float64\n",
      " 51  DEF_30_CNT_SOCIAL_CIRCLE     307511 non-null  float64\n",
      " 52  OBS_60_CNT_SOCIAL_CIRCLE     307511 non-null  float64\n",
      " 53  DEF_60_CNT_SOCIAL_CIRCLE     307511 non-null  float64\n",
      "dtypes: float64(13), int64(17), object(24)\n",
      "memory usage: 126.7+ MB\n"
     ]
    }
   ],
   "source": [
    "merged_df.info()"
   ]
  },
  {
   "cell_type": "code",
   "execution_count": null,
   "id": "a5020a4e-6087-46aa-b2a3-5604d3edfab5",
   "metadata": {},
   "outputs": [],
   "source": []
  },
  {
   "cell_type": "markdown",
   "id": "4c0be10b-a1e1-471c-b116-96d99b2781ad",
   "metadata": {},
   "source": [
    "# 1. Loan Application Status Distribution\n",
    "A pie chart shows the percentage of approved, refused, and canceled loan applications."
   ]
  },
  {
   "cell_type": "code",
   "execution_count": 108,
   "id": "dcd474b9-670a-452d-b96f-52341dbd45c4",
   "metadata": {},
   "outputs": [
    {
     "data": {
      "image/png": "[encoded data removed]",
      "text/plain": [
       "<Figure size 800x600 with 1 Axes>"
      ]
     },
     "metadata": {},
     "output_type": "display_data"
    }
   ],
   "source": [
    "plt.figure(figsize=(8, 6))\n",
    "status_counts = merged_df['NAME_CONTRACT_STATUS'].value_counts()\n",
    "plt.pie(status_counts, labels=status_counts.index, autopct='%1.1f%%', startangle=140, colors=['skyblue', 'orange', 'lightgreen','grey'])\n",
    "plt.title('Loan Application Status Distribution')\n",
    "plt.show()"
   ]
  },
  {
   "cell_type": "markdown",
   "id": "b82af3ef-3a17-4be4-9db4-a0c913a30eb5",
   "metadata": {},
   "source": [
    "#  Income vs Credit Relationship\n",
    "* 1.Scatter plot to visualize the relationship between total income and credit amount.\n",
    "* 2.Different colors indicate whether a loan was defaulted (TARGET)"
   ]
  },
  {
   "cell_type": "code",
   "execution_count": 109,
   "id": "b7eea54d-4e37-42cb-8941-ec41d2bac0b2",
   "metadata": {},
   "outputs": [
    {
     "data": {
      "image/png": "[encoded data removed]",
      "text/plain": [
       "<Figure size 1000x600 with 1 Axes>"
      ]
     },
     "metadata": {},
     "output_type": "display_data"
    }
   ],
   "source": [
    "plt.figure(figsize=(10, 6))\n",
    "sns.scatterplot(x='AMT_INCOME_TOTAL', y='AMT_CREDIT', hue='TARGET', palette='coolwarm', data=merged_df, s=100)\n",
    "plt.title('Relationship Between Income and Credit Amount')\n",
    "plt.xlabel('Total Income')\n",
    "plt.ylabel('Credit Amount')\n",
    "plt.legend(title='Default Target (0: No, 1: Yes)')\n",
    "plt.show()"
   ]
  },
  {
   "cell_type": "markdown",
   "id": "609bf057-4a46-44aa-b05b-c7fa8bb128d6",
   "metadata": {},
   "source": [
    "# Distribution of Target Variable\n",
    "* Count of loan defaults (TARGET) helps analyze the default proportion"
   ]
  },
  {
   "cell_type": "code",
   "execution_count": 110,
   "id": "9cd1dd3a-8104-43f5-a250-cec2b63af770",
   "metadata": {},
   "outputs": [
    {
     "name": "stderr",
     "output_type": "stream",
     "text": [
      "C:\\Users\\amitk\\AppData\\Local\\Temp\\ipykernel_12012\\1294036130.py:2: FutureWarning: \n",
      "\n",
      "Passing `palette` without assigning `hue` is deprecated and will be removed in v0.14.0. Assign the `x` variable to `hue` and set `legend=False` for the same effect.\n",
      "\n",
      "  sns.countplot(x='TARGET', data=merged_df, palette='viridis')\n"
     ]
    },
    {
     "data": {
      "image/png": "[encoded data removed]",
      "text/plain": [
       "<Figure size 800x600 with 1 Axes>"
      ]
     },
     "metadata": {},
     "output_type": "display_data"
    }
   ],
   "source": [
    "plt.figure(figsize=(8, 6))\n",
    "sns.countplot(x='TARGET', data=merged_df, palette='viridis')\n",
    "plt.title('Distribution of Loan Defaults (TARGET)')\n",
    "plt.xlabel('Default Status (0: No, 1: Yes)')\n",
    "plt.ylabel('Count')\n",
    "plt.show()"
   ]
  },
  {
   "cell_type": "markdown",
   "id": "e968408a-e14e-46a5-9fc3-fd9de3cbab8a",
   "metadata": {},
   "source": [
    "# Family Members vs Credit Applications\n",
    "* Bar chart highlights how the number of family members impacts credit applications."
   ]
  },
  {
   "cell_type": "code",
   "execution_count": 111,
   "id": "bc9eb359-4bc8-41e9-a18a-b59544cd0bdf",
   "metadata": {},
   "outputs": [
    {
     "name": "stderr",
     "output_type": "stream",
     "text": [
      "C:\\Users\\amitk\\AppData\\Local\\Temp\\ipykernel_12012\\3048425376.py:2: FutureWarning: \n",
      "\n",
      "The `ci` parameter is deprecated. Use `errorbar=None` for the same effect.\n",
      "\n",
      "  sns.barplot(x='CNT_FAM_MEMBERS', y='AMT_CREDIT', data=merged_df, ci=None, palette='muted')\n",
      "C:\\Users\\amitk\\AppData\\Local\\Temp\\ipykernel_12012\\3048425376.py:2: FutureWarning: \n",
      "\n",
      "Passing `palette` without assigning `hue` is deprecated and will be removed in v0.14.0. Assign the `x` variable to `hue` and set `legend=False` for the same effect.\n",
      "\n",
      "  sns.barplot(x='CNT_FAM_MEMBERS', y='AMT_CREDIT', data=merged_df, ci=None, palette='muted')\n"
     ]
    },
    {
     "data": {
      "image/png": "[encoded data removed]",
      "text/plain": [
       "<Figure size 1000x600 with 1 Axes>"
      ]
     },
     "metadata": {},
     "output_type": "display_data"
    }
   ],
   "source": [
    "plt.figure(figsize=(10, 6))\n",
    "sns.barplot(x='CNT_FAM_MEMBERS', y='AMT_CREDIT', data=merged_df, ci=None, palette='muted')\n",
    "plt.title('Impact of Family Members on Credit Applications')\n",
    "plt.xlabel('Number of Family Members')\n",
    "plt.ylabel('Average Credit Amount')\n",
    "plt.show()"
   ]
  },
  {
   "cell_type": "markdown",
   "id": "35d4b936-03c7-4a57-a768-9b959e430cc0",
   "metadata": {},
   "source": [
    "# Loan Applications by Gender\n",
    "\n",
    "* Count plot compares the number of loan applications by gender."
   ]
  },
  {
   "cell_type": "code",
   "execution_count": 112,
   "id": "37d88ed5-b860-41d1-a60b-555e13c3f92b",
   "metadata": {},
   "outputs": [
    {
     "name": "stderr",
     "output_type": "stream",
     "text": [
      "C:\\Users\\amitk\\AppData\\Local\\Temp\\ipykernel_12012\\888162258.py:2: FutureWarning: \n",
      "\n",
      "Passing `palette` without assigning `hue` is deprecated and will be removed in v0.14.0. Assign the `x` variable to `hue` and set `legend=False` for the same effect.\n",
      "\n",
      "  sns.countplot(x='CODE_GENDER', data=merged_df, palette='Set2')\n"
     ]
    },
    {
     "data": {
      "image/png": "[encoded data removed]",
      "text/plain": [
       "<Figure size 800x600 with 1 Axes>"
      ]
     },
     "metadata": {},
     "output_type": "display_data"
    }
   ],
   "source": [
    "plt.figure(figsize=(8, 6))\n",
    "sns.countplot(x='CODE_GENDER', data=merged_df, palette='Set2')\n",
    "plt.title('Loan Applications by Gender')\n",
    "plt.xlabel('Gender')\n",
    "plt.ylabel('Count')\n",
    "plt.show()"
   ]
  },
  {
   "cell_type": "markdown",
   "id": "60b1a2f4-fc52-4c3f-ab51-b163b27c4a32",
   "metadata": {},
   "source": [
    "# Age Distribution of Applicants\n",
    "\n",
    "* Histogram showing the age distribution, indicating common age ranges"
   ]
  },
  {
   "cell_type": "code",
   "execution_count": 113,
   "id": "22520913-f417-46d8-81df-299bedad8726",
   "metadata": {},
   "outputs": [
    {
     "name": "stderr",
     "output_type": "stream",
     "text": [
      "C:\\Users\\amitk\\AppData\\Local\\Temp\\ipykernel_12012\\3832773356.py:2: SettingWithCopyWarning: \n",
      "A value is trying to be set on a copy of a slice from a DataFrame.\n",
      "Try using .loc[row_indexer,col_indexer] = value instead\n",
      "\n",
      "See the caveats in the documentation: https://pandas.pydata.org/pandas-docs/stable/user_guide/indexing.html#returning-a-view-versus-a-copy\n",
      "  merged_df['AGE'] = abs(merged_df['DAYS_BIRTH']) / 365  # Convert to age in years\n"
     ]
    },
    {
     "data": {
      "image/png": "[encoded data removed]",
      "text/plain": [
       "<Figure size 1000x600 with 1 Axes>"
      ]
     },
     "metadata": {},
     "output_type": "display_data"
    }
   ],
   "source": [
    "plt.figure(figsize=(10, 6))\n",
    "merged_df['AGE'] = abs(merged_df['DAYS_BIRTH']) / 365  # Convert to age in years\n",
    "sns.histplot(merged_df['AGE'], bins=20, kde=True, color='teal')\n",
    "plt.title('Age Distribution of Applicants')\n",
    "plt.xlabel('Age (Years)')\n",
    "plt.ylabel('Frequency')\n",
    "plt.show()"
   ]
  },
  {
   "cell_type": "code",
   "execution_count": 131,
   "id": "bd30bb4a-11a4-49c0-a511-bce62d38f7c7",
   "metadata": {},
   "outputs": [
    {
     "data": {
      "image/png": "[encoded data removed]",
      "text/plain": [
       "<Figure size 2000x600 with 1 Axes>"
      ]
     },
     "metadata": {},
     "output_type": "display_data"
    }
   ],
   "source": [
    "fig = plt.figure(figsize=[20, 6])\n",
    "plt.subplot(1, 2, 1)\n",
    "plt.title(\"Distribution of Gender by Target Variable\", weight=\"bold\")\n",
    "sns.countplot(x=\"CODE_GENDER\", hue=\"TARGET\", data=merged_df, palette=\"deep\")\n",
    "plt.xlabel(\"Gender\", weight=\"bold\")\n",
    "plt.ylabel(\"Count\", weight=\"bold\")\n",
    "plt.tight_layout()\n",
    "plt.show()\n"
   ]
  },
  {
   "cell_type": "markdown",
   "id": "040daf8e-e38d-440a-83a2-361b4dd4b7c3",
   "metadata": {},
   "source": [
    "# Education type and Income relationship"
   ]
  },
  {
   "cell_type": "code",
   "execution_count": 126,
   "id": "a854d552-0548-4c1a-a971-3a5901bbea11",
   "metadata": {},
   "outputs": [
    {
     "data": {
      "image/png": "[encoded data removed]",
      "text/plain": [
       "<Figure size 1300x600 with 1 Axes>"
      ]
     },
     "metadata": {},
     "output_type": "display_data"
    }
   ],
   "source": [
    "plt.figure(figsize=(13,6))\n",
    "sns.barplot(x='NAME_EDUCATION_TYPE', y='AMT_INCOME_TOTAL', data= merged_df,errorbar=None)\n",
    "plt.title('Education type VS Income')\n",
    "plt.show()"
   ]
  },
  {
   "cell_type": "code",
   "execution_count": 127,
   "id": "7c5d21d7-cebd-43bb-bd92-badb56d899c5",
   "metadata": {},
   "outputs": [
    {
     "data": {
      "image/png": "[encoded data removed]",
      "text/plain": [
       "<Figure size 1000x800 with 2 Axes>"
      ]
     },
     "metadata": {},
     "output_type": "display_data"
    }
   ],
   "source": [
    "plt.figure(figsize=(10, 8))\n",
    "corr = merged_df[['AMT_INCOME_TOTAL', 'AMT_CREDIT', 'AMT_ANNUITY', 'AMT_GOODS_PRICE', 'TARGET']].corr()\n",
    "sns.heatmap(corr, annot=True, cmap='coolwarm', fmt=\".2f\")\n",
    "plt.title('Correlation Heatmap with TARGET')\n",
    "plt.show()"
   ]
  },
  {
   "cell_type": "markdown",
   "id": "b85c57d6-2957-4384-b6df-97d4bc2e7569",
   "metadata": {},
   "source": [
    "# Conclusion"
   ]
  },
  {
   "cell_type": "markdown",
   "id": "0188aee5-9fce-40e7-bf5e-53f50c1aeb1e",
   "metadata": {},
   "source": [
    "* **Income and Education Level Relationship**: The plot demonstrates a clear positive correlation between education level and income. Individuals with higher education levels tend to have higher incomes compared to those with lower education levels.\n",
    "\n",
    "* **Income Variation by Education Type**:\n",
    "\n",
    "* Academic Degree: Individuals with an academic degree  have the highest average income.\n",
    "* Higher Education: Those with a higher education degree  have the second-highest average income.\n",
    "* Secondary/Secondary Special: Individuals with a secondary or secondary special education have a moderate average income.\n",
    "* Incomplete Higher: This group has a slightly lower average income compared to those with higher education or secondary education.\n",
    "* Lower Secondary: Those with a lower secondary education level have the lowest average income."
   ]
  },
  {
   "cell_type": "code",
   "execution_count": null,
   "id": "da8faa8d-5759-4a48-9880-eabf5890cd6c",
   "metadata": {},
   "outputs": [],
   "source": []
  }
 ],
 "metadata": {
  "kernelspec": {
   "display_name": "Python 3 (ipykernel)",
   "language": "python",
   "name": "python3"
  },
  "language_info": {
   "codemirror_mode": {
    "name": "ipython",
    "version": 3
   },
   "file_extension": ".py",
   "mimetype": "text/x-python",
   "name": "python",
   "nbconvert_exporter": "python",
   "pygments_lexer": "ipython3",
   "version": "3.11.0"
  }
 },
 "nbformat": 4,
 "nbformat_minor": 5
}
